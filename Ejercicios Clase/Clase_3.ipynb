{
 "cells": [
  {
   "cell_type": "markdown",
   "metadata": {},
   "source": [
    "### Ejercicios Clase 3"
   ]
  },
  {
   "cell_type": "markdown",
   "metadata": {},
   "source": [
    "##### Ejercicio 1.1"
   ]
  },
  {
   "cell_type": "code",
   "execution_count": 4,
   "metadata": {},
   "outputs": [
    {
     "data": {
      "text/plain": [
       "[0,\n",
       " 2,\n",
       " 4,\n",
       " 6,\n",
       " 8,\n",
       " 10,\n",
       " 12,\n",
       " 14,\n",
       " 16,\n",
       " 18,\n",
       " 20,\n",
       " 22,\n",
       " 24,\n",
       " 26,\n",
       " 28,\n",
       " 30,\n",
       " 32,\n",
       " 34,\n",
       " 36,\n",
       " 38,\n",
       " 40,\n",
       " 42,\n",
       " 44,\n",
       " 46,\n",
       " 48]"
      ]
     },
     "metadata": {},
     "output_type": "display_data"
    }
   ],
   "source": [
    "# Código Ejercicio 1 Apartado 1 \n",
    "# 3 alternativas para probar cada una, descomentar alternativamente las lineas\n",
    "# even=[2*e for e in range (25)]\n",
    "# even=[e for e in range (0,50,2)]\n",
    "even=list(range(0,50,2))\n",
    "display(even)"
   ]
  },
  {
   "cell_type": "markdown",
   "metadata": {},
   "source": [
    "##### Ejercicio 1.2"
   ]
  },
  {
   "cell_type": "code",
   "execution_count": 6,
   "metadata": {},
   "outputs": [
    {
     "name": "stdout",
     "output_type": "stream",
     "text": [
      "La cadena original era Juan y la modificada: nuaJ\n"
     ]
    }
   ],
   "source": [
    "# Código Ejercicio 1 Apartado 2\n",
    "st = input(\"Ingrese una cadena de texto: \")\n",
    "i1 = int(input(\"Ingrese el primer índice: \"))\n",
    "i2 = int(input(\"Ingrese el segundo índice: \"))\n",
    "st_list,st_len = list(st),len(st)\n",
    "# Verifica si los índices son válidos\n",
    "if 0 <= i1 < st_len and 0 <= i2 < st_len:\n",
    "    # Intercambia las letras de los índices indicados\n",
    "    st_list[i1], st_list[i2] = st_list[i2], st_list[i1]\n",
    "    # Imprime Nueva cadena \n",
    "    print(f'La cadena original era {st} y la modificada: {\"\".join(st_list)}')\n",
    "else:\n",
    "    print(f\"Los índices tienen que estar en el rango [0,{st_len-1}]\")"
   ]
  },
  {
   "cell_type": "markdown",
   "metadata": {},
   "source": [
    "##### Ejercicio 1.3"
   ]
  },
  {
   "cell_type": "code",
   "execution_count": 8,
   "metadata": {},
   "outputs": [
    {
     "name": "stdout",
     "output_type": "stream",
     "text": [
      "\n",
      "Nombres ordenados alfabéticamente:\n",
      "Héctor\n",
      "Juan\n",
      "Martín\n",
      "Pedro\n",
      "Ramón\n"
     ]
    }
   ],
   "source": [
    "# Código Ejercicio 1 Apartado 3\n",
    "n_names = int(input(\"Cuanto nombres quiere ingresar?: \"))\n",
    "names = []\n",
    "for i in range(n_names):\n",
    "    name = input(f\"Ingrese el nombre {i+1}º: \")\n",
    "    names.append(name)\n",
    "# Ordena nombres alfabéticamente\n",
    "names.sort()\n",
    "# Mostrar los nombres ordenados\n",
    "print(\"\\nNombres ordenados alfabéticamente:\")\n",
    "for name in names:\n",
    "    print(name)"
   ]
  },
  {
   "cell_type": "markdown",
   "metadata": {},
   "source": [
    "##### Ejercicio 2"
   ]
  },
  {
   "cell_type": "code",
   "execution_count": 9,
   "metadata": {},
   "outputs": [
    {
     "name": "stdout",
     "output_type": "stream",
     "text": [
      "Usuario registrado con éxito.\n",
      "Usuario registrado con éxito.\n",
      "Usuario registrado con éxito.\n",
      "EL número de legajo ya existe. Por favor, ingrese otro.\n",
      "EL número de legajo ya existe. Por favor, ingrese otro.\n",
      "EL número de legajo ya existe. Por favor, ingrese otro.\n",
      "\n",
      "Legajos de los usuarios:\n",
      "Número de legajo: 123, Nombre: Juan\n",
      "Número de legajo: 567, Nombre: Pedro\n",
      "Número de legajo: 12, Nombre: Diego\n"
     ]
    }
   ],
   "source": [
    "dic={}\n",
    "while True:\n",
    "    id = input('Ingrese el número de legajo o \"q\" para salir: ')\n",
    "    if id.lower() == 'q':\n",
    "        break\n",
    "    if id in dic:\n",
    "        print(\"EL número de legajo ya existe. Por favor, ingrese otro.\")\n",
    "    else:\n",
    "        name = input(\"Ingrese el nombre: \")\n",
    "        dic[id] = name\n",
    "        print(\"Usuario registrado con éxito.\")\n",
    "print(\"\\nLegajos de los usuarios:\")\n",
    "for id, name in dic.items():\n",
    "    print(f\"Número de legajo: {id}, Nombre: {name}\")"
   ]
  },
  {
   "cell_type": "markdown",
   "metadata": {},
   "source": [
    "##### Ejercicio 3"
   ]
  },
  {
   "cell_type": "code",
   "execution_count": 10,
   "metadata": {},
   "outputs": [
    {
     "name": "stdout",
     "output_type": "stream",
     "text": [
      "{'Marina'}\n",
      "{'Paula', 'Tomas'}\n",
      "{'Paula', 'Tomas', 'Julian', 'Juan', 'Pedro', 'Marina'}\n"
     ]
    }
   ],
   "source": [
    "# Código Ejercicio 3\n",
    "v = { \"Juan\", \"Marina\", \"Tomas\", \"Paula\" }\n",
    "ch = { \"Pedro\", \"Paula\", \"Marina\" }\n",
    "dl = { \"Juan\", \"Julian\", \"Pedro\", \"Marina\" }\n",
    "\n",
    "print(v&ch&dl)\n",
    "print(v-dl)\n",
    "print(v|ch|dl)"
   ]
  },
  {
   "cell_type": "markdown",
   "metadata": {},
   "source": [
    "#### Ejercicio Integradores"
   ]
  },
  {
   "cell_type": "markdown",
   "metadata": {},
   "source": [
    "##### Ejercicio 1"
   ]
  },
  {
   "cell_type": "code",
   "execution_count": 19,
   "metadata": {},
   "outputs": [],
   "source": [
    "candidatos = {\n",
    "    \"Gustavo Cerati\": 334453,\n",
    "    \"Mercedes Sosa\": 18445,\n",
    "    \"Carlos Indio Solari\": 1434444,\n",
    "    \"Fabiana Cantilo\": 312332,\n",
    "    \"Gustavo Cordera\": 5543,\n",
    "    \"Ricardo Mollo\": 1343343,\n",
    "    \"Gustavo Napoli\":1232322\n",
    "}"
   ]
  },
  {
   "cell_type": "code",
   "execution_count": 20,
   "metadata": {},
   "outputs": [
    {
     "name": "stdout",
     "output_type": "stream",
     "text": [
      "El ganador de la elección es: Carlos Indio Solari con 1434444 votos, el 28.7% del padrón votó por Carlos Indio Solari.\n"
     ]
    }
   ],
   "source": [
    "# Código Ejercicio Elecciones\n",
    "ganador = None\n",
    "max_votos = 0\n",
    "# Iterar sobre los candidatos y sus votos para encontrar al ganador\n",
    "for nombre, votos in candidatos.items():\n",
    "    if votos > max_votos:\n",
    "        ganador = nombre\n",
    "        max_votos = votos\n",
    "# Imprimir el nombre del ganador\n",
    "print(f\"El ganador de la elección es: {ganador} con {max_votos} votos, el {round(max_votos/5e4,1)}% del padrón votó por {ganador}.\")"
   ]
  },
  {
   "cell_type": "markdown",
   "metadata": {},
   "source": [
    "##### Ejercicio 2"
   ]
  },
  {
   "cell_type": "code",
   "execution_count": 1,
   "metadata": {},
   "outputs": [],
   "source": [
    "def hacer_estacionaria(serie, orden):\n",
    "    for _ in range(orden):      # \"_\" se coloca para indicar que no se va a utilizar el contador en el bucle.\n",
    "        serie = [serie[i] - serie[i-1] for i in range(1,len(serie))]\n",
    "    return serie"
   ]
  },
  {
   "cell_type": "code",
   "execution_count": 3,
   "metadata": {},
   "outputs": [],
   "source": [
    "# Otra alternativa\n",
    "def hacer_estacionaria(serie, orden): \n",
    "    return [serie[i] - serie[i-1] for _ in range(orden) for i in range(1, len(serie))]"
   ]
  },
  {
   "cell_type": "code",
   "execution_count": 4,
   "metadata": {},
   "outputs": [
    {
     "name": "stdout",
     "output_type": "stream",
     "text": [
      "[1, 1, 1, 1, 1]\n"
     ]
    }
   ],
   "source": [
    "# Ejemplo de serie temporal\n",
    "serie = [1, 2, 3, 4, 5, 6]\n",
    "\n",
    "# Orden de diferenciación\n",
    "orden = 1\n",
    "\n",
    "# Hacer la serie estacionaria\n",
    "serie_estacionaria = hacer_estacionaria(serie, orden)\n",
    "\n",
    "print(serie_estacionaria)"
   ]
  }
 ],
 "metadata": {
  "kernelspec": {
   "display_name": "venvDS",
   "language": "python",
   "name": "python3"
  },
  "language_info": {
   "codemirror_mode": {
    "name": "ipython",
    "version": 3
   },
   "file_extension": ".py",
   "mimetype": "text/x-python",
   "name": "python",
   "nbconvert_exporter": "python",
   "pygments_lexer": "ipython3",
   "version": "3.11.5"
  }
 },
 "nbformat": 4,
 "nbformat_minor": 2
}
