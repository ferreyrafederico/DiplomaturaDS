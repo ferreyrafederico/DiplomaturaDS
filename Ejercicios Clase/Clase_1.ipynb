{
 "cells": [
  {
   "cell_type": "markdown",
   "metadata": {},
   "source": [
    "#### Ejercicios Clase 1"
   ]
  },
  {
   "cell_type": "markdown",
   "metadata": {},
   "source": [
    "##### Ejercicio 1.1"
   ]
  },
  {
   "cell_type": "code",
   "execution_count": 1,
   "metadata": {},
   "outputs": [
    {
     "name": "stdout",
     "output_type": "stream",
     "text": [
      "Los numeros ingresados fueron: 4, 5, 6\n",
      "El promedio es: 5.0\n",
      "La media geométrica es: 4.93242414866094\n"
     ]
    }
   ],
   "source": [
    "# Código Ejercicio 1 Apartado 1\n",
    "num1 = int(input(\"Ingresa el primer número: \"))\n",
    "num2 = int(input(\"Ingresa el segundo número: \"))\n",
    "num3 = int(input(\"Ingresa el tercer número: \"))\n",
    "\n",
    "promedio = (num1 + num2 + num3) / 3\n",
    "media_geom = (num1 * num2 * num3) ** (1/3)\n",
    "\n",
    "print(f'Los numeros ingresados fueron: {num1}, {num2}, {num3}')\n",
    "print(f\"El promedio es: {promedio}\")\n",
    "print(f\"La media geométrica es: {media_geom}\")"
   ]
  },
  {
   "cell_type": "markdown",
   "metadata": {},
   "source": [
    "##### Ejercicio 1.2"
   ]
  },
  {
   "cell_type": "code",
   "execution_count": 20,
   "metadata": {},
   "outputs": [
    {
     "name": "stdout",
     "output_type": "stream",
     "text": [
      "Precio unitario del producto 1: 12\n",
      "Cantidad del producto 1: 2\n",
      "Total del producto 1: 24\n",
      "Precio unitario del producto 2: 24\n",
      "Cantidad del producto 2: 1\n",
      "Total del producto 2: 24\n",
      "Total: 48\n"
     ]
    }
   ],
   "source": [
    "# Código Ejercicio 1 Apartado 2\n",
    "price1 = int(input(\"Ingrese precio unitario del producto 1: \"))\n",
    "quant1 = int(input(\"Ingrese la cantidad del producto 1: \"))\n",
    "\n",
    "price2 = int(input(\"Ingrese precio unitario del producto 2: \"))\n",
    "quant2 = int(input(\"Ingrese la cantidad del producto 2: \"))\n",
    "\n",
    "total1= price1*quant1\n",
    "total2= price2*quant2\n",
    "total = total1+total2\n",
    "\n",
    "print(f'Precio unitario del producto 1: {price1}')\n",
    "print(f'Cantidad del producto 1: {quant1}')\n",
    "print(f'Total del producto 1: {total1}')\n",
    "print(f'Precio unitario del producto 2: {price2}')\n",
    "print(f'Cantidad del producto 2: {quant2}')\n",
    "print(f'Total del producto 2: {total2}')\n",
    "print(f'Total: {total}')"
   ]
  },
  {
   "cell_type": "markdown",
   "metadata": {},
   "source": [
    "##### Ejercicio 2.1"
   ]
  },
  {
   "cell_type": "code",
   "execution_count": 7,
   "metadata": {},
   "outputs": [
    {
     "name": "stdout",
     "output_type": "stream",
     "text": [
      "El número 4568 es par.\n"
     ]
    }
   ],
   "source": [
    "# Código Ejercicio 2 Apartado 1\n",
    "x = int( input(\"Ingrese un número:\") )\n",
    "flag=(x%2==0)\n",
    "print(f\"El número {x} es {'par'*flag or 'impar'*(not flag)}.\" )"
   ]
  },
  {
   "cell_type": "markdown",
   "metadata": {},
   "source": [
    "##### Ejercicio 2.2"
   ]
  },
  {
   "cell_type": "code",
   "execution_count": 18,
   "metadata": {},
   "outputs": [
    {
     "name": "stdout",
     "output_type": "stream",
     "text": [
      "La línea de producción debería frenarse a las 0:53 hs.\n"
     ]
    }
   ],
   "source": [
    "book_min = 12       # Cantidad de libros por minuto\n",
    "cap_day = 10000     # Capacidad de producción por día\n",
    "\n",
    "start = int(input(\"Ingrese la hora de inicio de la producción (0-24 hs): \"))\n",
    "\n",
    "time=(start*60 + cap_day / book_min) % 1440 # 1440 es por si se pasa de las 24hs modulariza, comienza en 0hs.\n",
    "\n",
    "print(f'La línea de producción debería frenarse a las {int(time // 60)}:{int(time % 60)} hs.')"
   ]
  },
  {
   "cell_type": "markdown",
   "metadata": {},
   "source": [
    "##### Ejercicio 3.1"
   ]
  },
  {
   "cell_type": "code",
   "execution_count": 11,
   "metadata": {},
   "outputs": [
    {
     "name": "stdout",
     "output_type": "stream",
     "text": [
      "El primer número (6) es mayor que el segundo (5).\n"
     ]
    }
   ],
   "source": [
    "# Código Ejercicio 3 Apartado 1\n",
    "a = int(input(\"Ingrese el primer número:\"))\n",
    "b = int(input(\"Ingrese el segundo número:\"))\n",
    "\n",
    "print (f\"El primer número ({a}) es {'menor'*(a<b) or 'igual'*(a==b) or 'mayor'*(a>b)} que el segundo ({b}).\")"
   ]
  },
  {
   "cell_type": "markdown",
   "metadata": {},
   "source": [
    "##### Ejercicio 3.2"
   ]
  },
  {
   "cell_type": "code",
   "execution_count": 19,
   "metadata": {},
   "outputs": [
    {
     "name": "stdout",
     "output_type": "stream",
     "text": [
      "El local está abierto.\n"
     ]
    }
   ],
   "source": [
    "# Código Ejercicio 3 Apartado 2\n",
    "client = int(input(\"Ingrese la hora de llegada del cliente (0-24 hs): \"))\n",
    "\n",
    "open1 = 10 <= client <= 13\n",
    "open2 = 16 <= client <= 20\n",
    "open0 = open1 or open2\n",
    "\n",
    "print(f\"El local está {'abierto'*open0 or 'cerrado'*(not open0)}.\")"
   ]
  },
  {
   "cell_type": "markdown",
   "metadata": {},
   "source": [
    "### Ejercicios Integradores"
   ]
  },
  {
   "cell_type": "markdown",
   "metadata": {},
   "source": [
    "##### Ejercicio 1"
   ]
  },
  {
   "cell_type": "code",
   "execution_count": 13,
   "metadata": {},
   "outputs": [
    {
     "name": "stdout",
     "output_type": "stream",
     "text": [
      "Las 3 notas ingresadas fueron: 1, 8, y 2\n",
      "El promedio es: 3.67, reprobado\n",
      "El promedio ponderado es: 4.80, aprobado\n"
     ]
    }
   ],
   "source": [
    "# Código Ejercicio Notas promedio\n",
    "\n",
    "note1 = int(input(\"Ingrese la primer nota: \")) # probar con 1\n",
    "note2 = int(input(\"Ingrese la segunda nota: \")) # 8\n",
    "note3 = int(input(\"Ingrese la tercer nota: \")) # 2\n",
    "\n",
    "mean = (note1 + note2 + note3) / 3\n",
    "mean_w = (note1*0.2 + note2*0.5 + note3*0.3)\n",
    "\n",
    "print(f'Las 3 notas ingresadas fueron: {note1}, {note2}, y {note3}')\n",
    "print(f\"El promedio es: {mean:.2f}, {'aprobado'*(mean>=4) or 'reprobado'*(not mean>=4)}\")\n",
    "print(f\"El promedio ponderado es: {mean_w:.2f}, {'aprobado'*(mean_w>=4) or 'reprobado'*(not mean_w>=4)}\")"
   ]
  },
  {
   "cell_type": "markdown",
   "metadata": {},
   "source": [
    "Ejercicio 2"
   ]
  },
  {
   "cell_type": "code",
   "execution_count": 14,
   "metadata": {},
   "outputs": [
    {
     "name": "stdout",
     "output_type": "stream",
     "text": [
      "El área del círculo es: 0.79\n"
     ]
    }
   ],
   "source": [
    "# Código Ejercicio Cálculo de Área\n",
    "from math import pi # Importa constante pi del módulo math.\n",
    "\n",
    "diameter=float(input('Ingrese el diámetro de un círculo:'))\n",
    "print(f'El área del círculo es: {pi*(diameter/2)**2:.2f}')"
   ]
  }
 ],
 "metadata": {
  "kernelspec": {
   "display_name": "venvDS",
   "language": "python",
   "name": "python3"
  },
  "language_info": {
   "codemirror_mode": {
    "name": "ipython",
    "version": 3
   },
   "file_extension": ".py",
   "mimetype": "text/x-python",
   "name": "python",
   "nbconvert_exporter": "python",
   "pygments_lexer": "ipython3",
   "version": "3.11.5"
  }
 },
 "nbformat": 4,
 "nbformat_minor": 2
}
