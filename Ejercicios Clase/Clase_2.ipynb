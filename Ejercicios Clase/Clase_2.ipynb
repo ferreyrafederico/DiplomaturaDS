{
 "cells": [
  {
   "cell_type": "markdown",
   "metadata": {},
   "source": [
    "#### Ejercicios Clase 2"
   ]
  },
  {
   "cell_type": "markdown",
   "metadata": {},
   "source": [
    "##### Ejercicio 1.1"
   ]
  },
  {
   "cell_type": "code",
   "execution_count": 1,
   "metadata": {},
   "outputs": [
    {
     "name": "stdout",
     "output_type": "stream",
     "text": [
      "El patrimonio neto es: 122211 millones de u$s.\n"
     ]
    }
   ],
   "source": [
    "# Código Ejercicio 1 Apartado 1\n",
    "activo = float(input(\"Ingrese el activo en millones de u$s: \"))\n",
    "pasivo = float(input(\"Ingrese el pasivo en millones de u$s: \"))\n",
    "\n",
    "pn = activo - pasivo\n",
    "\n",
    "print(f\"El patrimonio neto es: {round(pn)} millones de u$s.\")"
   ]
  },
  {
   "cell_type": "markdown",
   "metadata": {},
   "source": [
    "##### Ejercicio 1.2"
   ]
  },
  {
   "cell_type": "code",
   "execution_count": 2,
   "metadata": {},
   "outputs": [
    {
     "name": "stdout",
     "output_type": "stream",
     "text": [
      "1235 minutos son igual a 20 horas y sobran 35 minutos.\n"
     ]
    }
   ],
   "source": [
    "# Código Ejercicio 1 Apartado 2\n",
    "minutos = int(input(\"Ingrese la cantidad de minutos: \"))\n",
    "\n",
    "horas = minutos // 60\n",
    "min_resto = minutos % 60\n",
    "\n",
    "print(f\"{minutos} minutos son igual a {horas} horas y sobran {min_resto} minutos.\")"
   ]
  },
  {
   "cell_type": "markdown",
   "metadata": {},
   "source": [
    "##### Ejercicio 2.1"
   ]
  },
  {
   "cell_type": "code",
   "execution_count": 3,
   "metadata": {},
   "outputs": [
    {
     "name": "stdout",
     "output_type": "stream",
     "text": [
      "Su fruta favorita no es la naranja es la maracuyá.\n"
     ]
    }
   ],
   "source": [
    "# Código Ejercicio 2 Apartado 1\n",
    "fruta = str(input(\"Ingrese una fruta: \")).lower()\n",
    "\n",
    "if fruta== \"naranja\":\n",
    "    print(\"Su fruta favorita coincide con la naranja\")\n",
    "else:\n",
    "    print(f\"Su fruta favorita no es la naranja es la {fruta}.\")"
   ]
  },
  {
   "cell_type": "markdown",
   "metadata": {},
   "source": [
    "##### Ejercicio 2.2"
   ]
  },
  {
   "cell_type": "code",
   "execution_count": 5,
   "metadata": {},
   "outputs": [
    {
     "name": "stdout",
     "output_type": "stream",
     "text": [
      "Nombre admitido = True\n"
     ]
    }
   ],
   "source": [
    "# Código Ejercicio 2 Apartado 2\n",
    "nombre = input(\"Ingrese su nombre: \")\n",
    "apellido = input(\"Ingrese su apellido: \")\n",
    "nombre_y_apellido = nombre + \" \" + apellido\n",
    "nombre_ok = len(nombre_y_apellido) <= 26\n",
    "print(f\"Nombre admitido = {nombre_ok}\")"
   ]
  },
  {
   "cell_type": "markdown",
   "metadata": {},
   "source": [
    "##### Ejercicio 3.1"
   ]
  },
  {
   "cell_type": "code",
   "execution_count": 6,
   "metadata": {},
   "outputs": [
    {
     "name": "stdout",
     "output_type": "stream",
     "text": [
      "Aprobó\n"
     ]
    }
   ],
   "source": [
    "# Código Ejercicio 3 Apartado 1\n",
    "nota = float(input(\"Ingrese la nota: \"))\n",
    "if nota >= 4:\n",
    "    print(\"Aprobó\")\n",
    "else:\n",
    "    print(\"Reprobó\")"
   ]
  },
  {
   "cell_type": "markdown",
   "metadata": {},
   "source": [
    "##### Ejercicio 3.2"
   ]
  },
  {
   "cell_type": "code",
   "execution_count": 7,
   "metadata": {},
   "outputs": [
    {
     "name": "stdout",
     "output_type": "stream",
     "text": [
      "C\n"
     ]
    }
   ],
   "source": [
    "# Código Ejercicio 3 Apartado 2\n",
    "\n",
    "nota = float(input(\"Ingrese la nota (0-100): \"))\n",
    "if nota >= 90:\n",
    "    print(\"A\") \n",
    "elif nota >= 80:\n",
    "    print(\"B\") \n",
    "elif nota >= 70:\n",
    "    print(\"C\")\n",
    "elif nota >= 60:\n",
    "    print(\"D\")\n",
    "else:\n",
    "    print(\"F\")"
   ]
  },
  {
   "cell_type": "markdown",
   "metadata": {},
   "source": [
    "##### Ejercicio 4.1"
   ]
  },
  {
   "cell_type": "code",
   "execution_count": 8,
   "metadata": {},
   "outputs": [
    {
     "name": "stdout",
     "output_type": "stream",
     "text": [
      "7  14  21  28  35  42  49  56  63  70  77  84  91  98  "
     ]
    }
   ],
   "source": [
    "# Código Ejercicio 4 Apartado 1\n",
    "i=0\n",
    "while i<101:\n",
    "   i+=1\n",
    "   print((str(i)+\"  \") * (i % 7 == 0) or \"\", end=\"\")"
   ]
  },
  {
   "cell_type": "markdown",
   "metadata": {},
   "source": [
    "##### Ejercicio 4.2"
   ]
  },
  {
   "cell_type": "code",
   "execution_count": 10,
   "metadata": {},
   "outputs": [
    {
     "name": "stdout",
     "output_type": "stream",
     "text": [
      "1,2,3,4,5,4,3,2,1,0"
     ]
    }
   ],
   "source": [
    "# alternativa 1\n",
    "i = 1\n",
    "step = 1\n",
    "while i >= 0:\n",
    "    print(i, end=\",\"*(i!=0))\n",
    "    i += step\n",
    "    step *= (i!=5)-(i==5) # aqui hay muchas alternativas logicas, probar."
   ]
  },
  {
   "cell_type": "code",
   "execution_count": 9,
   "metadata": {},
   "outputs": [
    {
     "name": "stdout",
     "output_type": "stream",
     "text": [
      "1,2,3,4,5,4,3,2,1,0"
     ]
    }
   ],
   "source": [
    "# alternativa 2\n",
    "i = 1\n",
    "while i <=10:\n",
    "    print(str(i)*(i<=5), end=\",\"*(i<=5))\n",
    "    print(str(10-i)*(i>5), end=\",\"*(i!=10)*(i>5))\n",
    "    i+=1"
   ]
  },
  {
   "cell_type": "markdown",
   "metadata": {},
   "source": [
    "##### Ejercicio 5"
   ]
  },
  {
   "cell_type": "code",
   "execution_count": 12,
   "metadata": {},
   "outputs": [
    {
     "name": "stdout",
     "output_type": "stream",
     "text": [
      "000000123\n",
      "123000789\n",
      "123000789\n",
      "123000789\n",
      "000031416\n",
      "000031416\n"
     ]
    }
   ],
   "source": [
    "n = int(input(\"Ingrese la cantidad de productos diferentes: \"))\n",
    "codigos = \"\"\n",
    "for _ in range(n):\n",
    "    codigo = input(\"Ingrese el código de barras del producto: \")  \n",
    "    cantidad = int(input(\"Ingrese la cantidad requerida: \"))      \n",
    "    codigos += (codigo + \"\\n\") * cantidad\n",
    "print(codigos, end=\"\")"
   ]
  },
  {
   "cell_type": "markdown",
   "metadata": {},
   "source": [
    "##### Ejercicio 6"
   ]
  },
  {
   "cell_type": "code",
   "execution_count": 13,
   "metadata": {},
   "outputs": [],
   "source": [
    "# Código Ejercicio 6\n",
    "def f_control(user, passw):\n",
    "    users = \"Juan:12345_ Pablo:xDcFvGbHn\"\n",
    "    user_passw = f\"{user}:{passw}\"\n",
    "    return user_passw in users"
   ]
  },
  {
   "cell_type": "code",
   "execution_count": 14,
   "metadata": {},
   "outputs": [
    {
     "name": "stdout",
     "output_type": "stream",
     "text": [
      "False\n",
      "False\n",
      "True\n",
      "True\n"
     ]
    }
   ],
   "source": [
    "print(f_control('Juan', 'ojnoijd'))  # Falso\n",
    "print(f_control('Javier', '12345_'))  # Falso\n",
    "print(f_control('Pablo', 'xDcFvGbHn'))  # verdadero\n",
    "print(f_control('Juan', '12345_'))  # verdadero"
   ]
  },
  {
   "cell_type": "markdown",
   "metadata": {},
   "source": [
    "#### Ejercicios Integradores"
   ]
  },
  {
   "cell_type": "markdown",
   "metadata": {},
   "source": [
    "##### Ejercicio 1"
   ]
  },
  {
   "cell_type": "code",
   "execution_count": 18,
   "metadata": {},
   "outputs": [],
   "source": [
    "# Código Ejercicio Cálculo de Promedio\n",
    "def f_prom(n1, n2, n3,w1,w2,w3,nlim):\n",
    "    '''n1,n2,n3 son las notas, w1,w2,w3 son los pesos, nlim es la nota límite'''\n",
    "    assert (ws:=w1+w2+w3)!=0 ,'La suma de los pesos no puede ser cero'\n",
    "    prom=(n1*w1+n2*w2+n3*w3)/ws\n",
    "    return f\"El promedio ponderado fue de: {prom}, {'aprobado'*(prom>=nlim) or 'reprobado'*(not prom>=nlim)}\""
   ]
  },
  {
   "cell_type": "code",
   "execution_count": 19,
   "metadata": {},
   "outputs": [
    {
     "data": {
      "text/plain": [
       "'El promedio ponderado fue de: 3.9, reprobado'"
      ]
     },
     "execution_count": 19,
     "metadata": {},
     "output_type": "execute_result"
    }
   ],
   "source": [
    "f_prom(5,1,8,20,50,30,4)"
   ]
  },
  {
   "cell_type": "markdown",
   "metadata": {},
   "source": [
    "##### Ejercicio 2"
   ]
  },
  {
   "cell_type": "code",
   "execution_count": 28,
   "metadata": {},
   "outputs": [],
   "source": [
    "def f_e(n):\n",
    "    e,f = 1,1  # La primera aproximación de e=1 y el primer factorial f=1\n",
    "    for i in range(1, n):\n",
    "        f *= i  # se calcular fn+1\n",
    "        e += 1 / f  # se suma el nuevo término a la serie\n",
    "    return e"
   ]
  },
  {
   "cell_type": "code",
   "execution_count": 29,
   "metadata": {},
   "outputs": [
    {
     "data": {
      "text/plain": [
       "2.708333333333333"
      ]
     },
     "execution_count": 29,
     "metadata": {},
     "output_type": "execute_result"
    }
   ],
   "source": [
    "f_e(5)"
   ]
  },
  {
   "cell_type": "markdown",
   "metadata": {},
   "source": [
    "##### Ejercicio 3"
   ]
  },
  {
   "cell_type": "code",
   "execution_count": 22,
   "metadata": {},
   "outputs": [
    {
     "name": "stdout",
     "output_type": "stream",
     "text": [
      "1\n",
      "2\n",
      "3 --> N3\n",
      "4\n",
      "5 --> N5\n",
      "6 --> N3\n",
      "7\n",
      "8\n",
      "9 --> N3\n",
      "10 --> N5\n",
      "11\n",
      "12 --> N3\n",
      "13\n",
      "14\n",
      "15 --> N3N5\n",
      "16\n",
      "17\n",
      "18 --> N3\n",
      "19\n",
      "20 --> N5\n",
      "21 --> N3\n",
      "22\n",
      "23\n",
      "24 --> N3\n",
      "25 --> N5\n",
      "26\n",
      "27 --> N3\n",
      "28\n",
      "29\n",
      "30 --> N3N5\n",
      "31\n",
      "32\n",
      "33 --> N3\n",
      "34\n",
      "35 --> N5\n",
      "36 --> N3\n",
      "37\n",
      "38\n",
      "39 --> N3\n",
      "40 --> N5\n",
      "41\n",
      "42 --> N3\n",
      "43\n",
      "44\n",
      "45 --> N3N5\n",
      "46\n",
      "47\n",
      "48 --> N3\n",
      "49\n",
      "50 --> N5\n",
      "51 --> N3\n",
      "52\n",
      "53\n",
      "54 --> N3\n",
      "55 --> N5\n",
      "56\n",
      "57 --> N3\n",
      "58\n",
      "59\n",
      "60 --> N3N5\n",
      "61\n",
      "62\n",
      "63 --> N3\n",
      "64\n",
      "65 --> N5\n",
      "66 --> N3\n",
      "67\n",
      "68\n",
      "69 --> N3\n",
      "70 --> N5\n",
      "71\n",
      "72 --> N3\n",
      "73\n",
      "74\n",
      "75 --> N3N5\n",
      "76\n",
      "77\n",
      "78 --> N3\n",
      "79\n",
      "80 --> N5\n",
      "81 --> N3\n",
      "82\n",
      "83\n",
      "84 --> N3\n",
      "85 --> N5\n",
      "86\n",
      "87 --> N3\n",
      "88\n",
      "89\n",
      "90 --> N3N5\n",
      "91\n",
      "92\n",
      "93 --> N3\n",
      "94\n",
      "95 --> N5\n",
      "96 --> N3\n",
      "97\n",
      "98\n",
      "99 --> N3\n",
      "100 --> N5\n"
     ]
    }
   ],
   "source": [
    "# Código Ejercicio Múltiplo\n",
    "for i in range(1, 101):\n",
    "    if i % 3 == 0 and i % 5 == 0:\n",
    "        print(f\"{i} --> N3N5\")\n",
    "    elif i % 3 == 0:\n",
    "        print(f\"{i} --> N3\")\n",
    "    elif i % 5 == 0:\n",
    "        print(f\"{i} --> N5\")\n",
    "    else:\n",
    "        print(i)"
   ]
  },
  {
   "cell_type": "code",
   "execution_count": 23,
   "metadata": {},
   "outputs": [
    {
     "name": "stdout",
     "output_type": "stream",
     "text": [
      "1 \n",
      "2 \n",
      "3 -> N3\n",
      "4 \n",
      "5 -> N5\n",
      "6 -> N3\n",
      "7 \n",
      "8 \n",
      "9 -> N3\n",
      "10 -> N5\n",
      "11 \n",
      "12 -> N3\n",
      "13 \n",
      "14 \n",
      "15 -> N3N5\n",
      "16 \n",
      "17 \n",
      "18 -> N3\n",
      "19 \n",
      "20 -> N5\n",
      "21 -> N3\n",
      "22 \n",
      "23 \n",
      "24 -> N3\n",
      "25 -> N5\n",
      "26 \n",
      "27 -> N3\n",
      "28 \n",
      "29 \n",
      "30 -> N3N5\n",
      "31 \n",
      "32 \n",
      "33 -> N3\n",
      "34 \n",
      "35 -> N5\n",
      "36 -> N3\n",
      "37 \n",
      "38 \n",
      "39 -> N3\n",
      "40 -> N5\n",
      "41 \n",
      "42 -> N3\n",
      "43 \n",
      "44 \n",
      "45 -> N3N5\n",
      "46 \n",
      "47 \n",
      "48 -> N3\n",
      "49 \n",
      "50 -> N5\n",
      "51 -> N3\n",
      "52 \n",
      "53 \n",
      "54 -> N3\n",
      "55 -> N5\n",
      "56 \n",
      "57 -> N3\n",
      "58 \n",
      "59 \n",
      "60 -> N3N5\n",
      "61 \n",
      "62 \n",
      "63 -> N3\n",
      "64 \n",
      "65 -> N5\n",
      "66 -> N3\n",
      "67 \n",
      "68 \n",
      "69 -> N3\n",
      "70 -> N5\n",
      "71 \n",
      "72 -> N3\n",
      "73 \n",
      "74 \n",
      "75 -> N3N5\n",
      "76 \n",
      "77 \n",
      "78 -> N3\n",
      "79 \n",
      "80 -> N5\n",
      "81 -> N3\n",
      "82 \n",
      "83 \n",
      "84 -> N3\n",
      "85 -> N5\n",
      "86 \n",
      "87 -> N3\n",
      "88 \n",
      "89 \n",
      "90 -> N3N5\n",
      "91 \n",
      "92 \n",
      "93 -> N3\n",
      "94 \n",
      "95 -> N5\n",
      "96 -> N3\n",
      "97 \n",
      "98 \n",
      "99 -> N3\n",
      "100 -> N5\n"
     ]
    }
   ],
   "source": [
    "# Otra alternativa hay más.\n",
    "for i in range(1, 101):\n",
    "    print(i,\"-> \"*((i % 3 == 0) or (i % 5 == 0))+\"N3\" * (i % 3 == 0) + \"N5\" * (i % 5 == 0))"
   ]
  }
 ],
 "metadata": {
  "kernelspec": {
   "display_name": "venvDS",
   "language": "python",
   "name": "python3"
  },
  "language_info": {
   "codemirror_mode": {
    "name": "ipython",
    "version": 3
   },
   "file_extension": ".py",
   "mimetype": "text/x-python",
   "name": "python",
   "nbconvert_exporter": "python",
   "pygments_lexer": "ipython3",
   "version": "3.11.5"
  }
 },
 "nbformat": 4,
 "nbformat_minor": 2
}
