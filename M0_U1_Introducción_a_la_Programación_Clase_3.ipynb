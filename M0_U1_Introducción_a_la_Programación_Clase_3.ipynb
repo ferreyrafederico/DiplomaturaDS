{
  "cells": [
    {
      "cell_type": "markdown",
      "metadata": {
        "id": "7cUqukj4_P_A"
      },
      "source": [
        "<p align=\"right\">\n",
        "<img\n",
        "     src=\"https://github.com/HX-PRomero/DiploDataScience/blob/main/_scr/assets/encabezado%20Diplomatura%20en%20Ciencia%20de%20Datos%20.png?raw=true\"\n",
        "     alt=\"pypl\"\n",
        "     width=60%\n",
        "     height=60%>\n",
        "</p>\n"
      ]
    },
    {
      "cell_type": "code",
      "execution_count": 79,
      "metadata": {},
      "outputs": [
        {
          "name": "stdout",
          "output_type": "stream",
          "text": [
            "['__add__', '__class__', '__class_getitem__', '__contains__', '__delattr__', '__delitem__', '__dir__', '__eq__', '__format__', '__ge__', '__getattribute__', '__getitem__', '__getstate__', '__gt__', '__iadd__', '__imul__', '__init__', '__init_subclass__', '__iter__', '__le__', '__len__', '__lt__', '__mul__', '__ne__', '__new__', '__reduce__', '__reduce_ex__', '__repr__', '__reversed__', '__rmul__', '__setattr__', '__setitem__', '__sizeof__', '__str__', '__subclasshook__', 'append', 'clear', 'copy', 'count', 'extend', 'index', 'insert', 'pop', 'remove', 'reverse', 'sort']\n"
          ]
        }
      ],
      "source": [
        "obj = [1,2,3]\n",
        "metodos = [m for m in dir(obj) if callable(getattr(obj, m))]\n",
        "print(metodos)"
      ]
    },
    {
      "cell_type": "code",
      "execution_count": 97,
      "metadata": {},
      "outputs": [
        {
          "name": "stdout",
          "output_type": "stream",
          "text": [
            "Help on method-wrapper:\n",
            "\n",
            "__contains__(key, /)\n",
            "    Return key in self.\n",
            "\n",
            "True\n"
          ]
        }
      ],
      "source": [
        "lista=[1,2,1]\n",
        "help(lista.__contains__)\n",
        "print(lista.__contains__(2))"
      ]
    },
    {
      "cell_type": "code",
      "execution_count": 75,
      "metadata": {},
      "outputs": [
        {
          "name": "stdout",
          "output_type": "stream",
          "text": [
            "2\n"
          ]
        }
      ],
      "source": [
        "'Hola'.index('H')\n",
        "lista=[1,2,5,6]\n",
        "c=lista.pop(1)\n",
        "print(c)"
      ]
    },
    {
      "cell_type": "markdown",
      "metadata": {
        "id": "mgqhxY2yCx6i"
      },
      "source": [
        "# MÓDULO 0. Unidad 1 - Clase 3\n",
        "\n",
        "---\n",
        "\n",
        "> Estructuras de Datos: listas, tuplas, diccionarios, sets.\n",
        "\n",
        "> Operaciones con Estructuras de Datos.\n",
        "\n",
        "> Casos de Uso.\n"
      ]
    },
    {
      "cell_type": "markdown",
      "metadata": {
        "id": "3tipHbU_OHnQ"
      },
      "source": [
        "#Estructuras de Datos\n",
        "\n",
        "<p align=\"center\">\n",
        "<img\n",
        "     src=\"https://drive.google.com/uc?export=view&id=1e702vfKk9rYDPvvXC-Fcj649FznYsn9R\"\n",
        "     alt=\"pypl\"\n",
        "     width=40%\n",
        "     height=40%>\n",
        "</p>\n",
        "\n",
        "\n",
        "Se suele llamar \"*estructura de datos*\" a algunos tipos de datos más complejos, los cuales nos permiten organizar la información de manera más efectiva, facilitando la modificación, navegación y acceso a la información.\n",
        "\n",
        "Una **estructura de datos** es una **colección de valores, la relación que existe entre estos valores y las operaciones que podemos hacer sobre ellos**. Es decir, se refiere a cómo los datos están organizados y cómo se pueden administrar, el formato en que los valores van a ser almacenados y cómo van a ser accedidos y modificados.\n",
        "\n",
        "Las **estructuras de datos** nos permiten agrupar datos (cada uno de estos con su tipo), e interactuar con ellos de la forma más apropiada. Python tiene incorporadas cuatro estructuras básicas de datos: listas, tuplas, diccionarios y conjuntos (sets). Estas estructuras vienen con métodos por defecto y optimizaciones \"detrás de escena\" que las hacen fáciles de usar. A continuación, las exploraremos con mayor detalle.\n",
        "\n",
        "Estructuras adicionales pueden conseguirse a través de la creación o importación de ciertos módulos."
      ]
    },
    {
      "cell_type": "markdown",
      "metadata": {
        "id": "JeRM9nSZztck"
      },
      "source": [
        "# Listas\n",
        "\n",
        "<p align=\"center\">\n",
        "<img\n",
        "     src=\"https://drive.google.com/uc?export=view&id=1_mzJ6kw0ZHJfErCInWMZIZL-NEWabl-e\"\n",
        "     alt=\"pypl\"\n",
        "     width=40%\n",
        "     height=40%>\n",
        "</p>"
      ]
    },
    {
      "cell_type": "markdown",
      "metadata": {
        "id": "MfnKbbeBPjpJ"
      },
      "source": [
        "Una **lista** es una colección ordenada de valores que pueden ser de cualquier tipo. Nos permiten almacenar elementos de manera secuencial, que pueden ser accedidos mediante su posición dentro de la lista. Una lista se crea usando corchetes, de la siguiente manera:\n",
        "\n",
        "> a = **[** $ a_{0}, a_{1}, a_{2}, \\dots $ **]**\n",
        "\n",
        "Y se pueden asignar a una variable, como cualquier otro tipo de dato. Adicionalmente, las listas pueden contener datos de más de un tipo. Veamos algunos ejemplos:"
      ]
    },
    {
      "cell_type": "code",
      "execution_count": 1,
      "metadata": {
        "colab": {
          "base_uri": "https://localhost:8080/"
        },
        "id": "MGRg4fSa0iMg",
        "outputId": "0ef7898e-5348-4fe0-cd1c-356afc7ab760"
      },
      "outputs": [
        {
          "name": "stdout",
          "output_type": "stream",
          "text": [
            "[13, 40, 10, 30, 67]\n",
            "[]\n",
            "[]\n",
            "[2, 'a', 44, 'e', '56e32']\n"
          ]
        },
        {
          "data": {
            "text/plain": [
              "(list, list, list, list)"
            ]
          },
          "execution_count": 1,
          "metadata": {},
          "output_type": "execute_result"
        }
      ],
      "source": [
        "# Creamos una lista con elementos\n",
        "a = [ 13, 40, 10, 30, 67 ]\n",
        "print(a)\n",
        "\n",
        "# Creamos una lista vacía\n",
        "b = []\n",
        "print(b)\n",
        "\n",
        "# Creamos una lista vacía\n",
        "c = list() # Esta función lleva 1 argumento, en general otra variable o\n",
        "print(c)   # elemento para convertir en lista\n",
        "\n",
        "# Creamos una lista con elementos string e int\n",
        "d = [2,'a',44,'e','56e32']\n",
        "print(d)\n",
        "\n",
        "type(a), type(b), type(c), type(d)"
      ]
    },
    {
      "cell_type": "markdown",
      "metadata": {
        "id": "BYiMd8IzlhNO"
      },
      "source": [
        "Para acceder a un elemento de una lista se utiliza `lista[índice]` de forma similar a como funcionan los *strings*. Además, podemos modificar el elemento asignándole un valor.\n",
        "\n",
        "También al igual que los *strings*, las listas permiten hacer **slicing**, es decir, obtener una sub-lista a partir de valores de comienzo, fin y step indicados entre corchetes y separados por dos puntos."
      ]
    },
    {
      "cell_type": "code",
      "execution_count": 2,
      "metadata": {
        "colab": {
          "base_uri": "https://localhost:8080/"
        },
        "id": "FDI5fX6u0sF7",
        "outputId": "98fda181-42fe-4c8c-ef54-682cfb58c73a"
      },
      "outputs": [
        {
          "name": "stdout",
          "output_type": "stream",
          "text": [
            "a = [5, 6, 7, 8]\n",
            "a[0] = 5\n",
            "a[2] = 7\n",
            "a = [5, 6, 0, 8]\n",
            "a = [6, 5, 0, 8]\n",
            "a[-1] = 8\n",
            "a[1:3] = [5, 0]\n",
            "a[::-1] = [8, 0, 5, 6]\n"
          ]
        }
      ],
      "source": [
        "a = [5, 6, 7, 8]\n",
        "print('a =', a)\n",
        "print('a[0] =', a[0])\n",
        "print('a[2] =', a[2])\n",
        "\n",
        "\n",
        "# Se puede asignar un nuevo valor a un elemento de la siguiente forma\n",
        "a[2] = 0\n",
        "print('a =', a)\n",
        "\n",
        "# Se pueden invertir dos elementos de una lista de la siguiente forma\n",
        "a[0], a[1] = a[1], a[0]\n",
        "print('a =', a)\n",
        "\n",
        "# Se pueden usar signos negativos para referir los índices desde el final para atras\n",
        "print('a[-1] =', a[-1])\n",
        "\n",
        "print('a[1:3] =', a[1:3])    # Slicing\n",
        "\n",
        "\n",
        "# Se puede omitir el parametro de inicio para comenzar desde el principio\n",
        "# Se puede omitir el parametro de fin para seguir hasta el final\n",
        "# Se puede usar un salto negativo para recorrer la lista en sentido inverso\n",
        "# Entonces, se puede invertir una lista de la siguiente forma\n",
        "print('a[::-1] =', a[::-1] )"
      ]
    },
    {
      "cell_type": "markdown",
      "metadata": {
        "id": "njU7dNS8l9FL"
      },
      "source": [
        "Notar que **el primer elemento de una lista se accede con el índice $0$**. Hay que acostumbrarse a esto para evitar resultados no esperados.\n",
        "\n",
        "Además, no es posible ponerle el nombre *list* a una lista, ya que es una palabra reservada. Esta es una función para generar una lista a partir de otro objeto, como un string, una tupla, etc. Por ejemplo:"
      ]
    },
    {
      "cell_type": "code",
      "execution_count": 3,
      "metadata": {
        "colab": {
          "base_uri": "https://localhost:8080/"
        },
        "id": "dACHK9WkQoo8",
        "outputId": "c2aebbde-f4de-4efb-9b3d-a01f5b131879"
      },
      "outputs": [
        {
          "name": "stdout",
          "output_type": "stream",
          "text": [
            "Hola Mundo\n",
            "['H', 'o', 'l', 'a', ' ', 'M', 'u', 'n', 'd', 'o']\n"
          ]
        }
      ],
      "source": [
        "texto = \"Hola Mundo\"\n",
        "texto_en_lista = list(texto)\n",
        "\n",
        "print(texto)\n",
        "print(texto_en_lista)"
      ]
    },
    {
      "cell_type": "code",
      "execution_count": 4,
      "metadata": {
        "colab": {
          "base_uri": "https://localhost:8080/"
        },
        "id": "OUK4HQlOdi3f",
        "outputId": "8fba5a46-4420-4b3a-b33d-f6414d94c1c3"
      },
      "outputs": [
        {
          "name": "stdout",
          "output_type": "stream",
          "text": [
            "abcde\n",
            "['a', 'b', 'c', 'd', 'e']\n",
            "['z', 'b', 'c', 'd', 'e']\n",
            "zbcde\n"
          ]
        }
      ],
      "source": [
        "# Pasando un string a lista\n",
        "x = 'abcde'\n",
        "print(x)\n",
        "\n",
        "# Esto no se puede\n",
        "# x[0] = 'z'\n",
        "\n",
        "x = list('abcde')\n",
        "print(x)\n",
        "x[0] = 'z'\n",
        "print(x)\n",
        "x = ''.join(x)\n",
        "print(x)"
      ]
    },
    {
      "cell_type": "markdown",
      "metadata": {
        "id": "UlcBp_8UvehI"
      },
      "source": [
        "Una forma alternativa de generar una lista es utilizando la instrucción **`for`** dentro de los corchetes de la siguiente manera:\n",
        "\n",
        "> b = **[** x **for** x **in** **range**(N) **]**\n",
        "\n",
        "Esto es llamado **list comprehension** y es una forma de armar, recorrer o trabajar con listas de manera más **pythonic** (pytonesco)."
      ]
    },
    {
      "cell_type": "code",
      "execution_count": 5,
      "metadata": {
        "colab": {
          "base_uri": "https://localhost:8080/"
        },
        "id": "VZuy59Xq0kp7",
        "outputId": "6b545730-df19-40ec-e0ed-1ba3989f0ee4"
      },
      "outputs": [
        {
          "name": "stdout",
          "output_type": "stream",
          "text": [
            "[0, 1, 2, 3, 4, 5, 6, 7, 8, 9]\n",
            "[0, 1, 2, 3, 4, 5, 6, 7, 8, 9]\n"
          ]
        }
      ],
      "source": [
        "b = [x for x in range(10)]\n",
        "print(b)\n",
        "c = list(range(10))\n",
        "print(c)"
      ]
    },
    {
      "cell_type": "markdown",
      "metadata": {
        "id": "3NnBGiXYKoFd"
      },
      "source": [
        "Y podemos aplicar una operación a la variable x\n",
        "> a = **[** (operacion con x) **for** x **in** **range**(N) **]**"
      ]
    },
    {
      "cell_type": "code",
      "execution_count": 6,
      "metadata": {
        "colab": {
          "base_uri": "https://localhost:8080/"
        },
        "id": "8LvqTi2q0nVC",
        "outputId": "45bb982d-d4cb-487f-c660-80986d4680cb"
      },
      "outputs": [
        {
          "name": "stdout",
          "output_type": "stream",
          "text": [
            "[0, 1, 2, 3, 4, 5, 6, 7, 8, 9]\n",
            "[0, 0, 0, 0, 0, 0, 0, 0, 0, 0, 0, 1, 2, 3, 4, 5, 6, 7, 8, 9, 0, 2, 4, 6, 8, 10, 12, 14, 16, 18, 0, 3, 6, 9, 12, 15, 18, 21, 24, 27, 0, 4, 8, 12, 16, 20, 24, 28, 32, 36, 0, 5, 10, 15, 20, 25, 30, 35, 40, 45, 0, 6, 12, 18, 24, 30, 36, 42, 48, 54, 0, 7, 14, 21, 28, 35, 42, 49, 56, 63, 0, 8, 16, 24, 32, 40, 48, 56, 64, 72, 0, 9, 18, 27, 36, 45, 54, 63, 72, 81, 0, 10, 20, 30, 40, 50, 60, 70, 80, 90, 0, 11, 22, 33, 44, 55, 66, 77, 88, 99, 0, 12, 24, 36, 48, 60, 72, 84, 96, 108, 0, 13, 26, 39, 52, 65, 78, 91, 104, 117, 0, 14, 28, 42, 56, 70, 84, 98, 112, 126]\n"
          ]
        }
      ],
      "source": [
        "a = [x for x in range(0, 10)]\n",
        "print(a)\n",
        "\n",
        "b = [x*y for x in range(15) for y in range(10)]\n",
        "print(b)"
      ]
    },
    {
      "cell_type": "markdown",
      "metadata": {
        "id": "LizEOjo0yQr3"
      },
      "source": [
        "También es posible utilizar un objeto iterable, en lugar de usar `range()`.\n",
        "\n",
        "Saben quiénes son objetos iterables, por ejemplo? Los *strings*!! Y las listas, claro."
      ]
    },
    {
      "cell_type": "code",
      "execution_count": 7,
      "metadata": {
        "colab": {
          "base_uri": "https://localhost:8080/"
        },
        "id": "EBSP69wmyZIq",
        "outputId": "ecfcddff-e723-4aa6-9999-6f550c293d20"
      },
      "outputs": [
        {
          "name": "stdout",
          "output_type": "stream",
          "text": [
            "['hhh', 'ooo', 'lll', 'aaa']\n",
            "[11, 12, 13, 14]\n"
          ]
        }
      ],
      "source": [
        "c = [3 * letra for letra in \"hola\"]\n",
        "print(c)\n",
        "\n",
        "d = [10+n for n in [1,2,3,4]]\n",
        "print(d)"
      ]
    },
    {
      "cell_type": "markdown",
      "metadata": {
        "id": "tbTd_kht2GAJ"
      },
      "source": [
        "### Para Pensar\n",
        "\n",
        "**¿Podrán las listas contener listas?**"
      ]
    },
    {
      "cell_type": "code",
      "execution_count": 8,
      "metadata": {
        "colab": {
          "base_uri": "https://localhost:8080/"
        },
        "id": "8IEwYZ6tbr6q",
        "outputId": "0ed72846-8aa9-4f2b-bf1d-a0be1ae64032"
      },
      "outputs": [
        {
          "name": "stdout",
          "output_type": "stream",
          "text": [
            "[['Hola', 'mundo', '!'], [1, 1, 2, 3, 5, 8]]\n",
            "['Hola', 'mundo', '!']\n",
            "H\n"
          ]
        }
      ],
      "source": [
        "lista_1 = ['Hola', 'mundo', '!']\n",
        "lista_2 = [1, 1, 2, 3, 5, 8]\n",
        "\n",
        "lista_de_listas = [lista_1, lista_2]\n",
        "print(lista_de_listas)\n",
        "print(lista_de_listas[0])\n",
        "print(lista_de_listas[0][0][0])"
      ]
    },
    {
      "cell_type": "markdown",
      "metadata": {
        "id": "QSB8OdyDw1i7"
      },
      "source": [
        "## Operaciones Sobre una Lista\n",
        "Podemos realizar múltiples operaciones sobre una lista:\n",
        "\n",
        "- **a + b**: Al igual que los strings se agrega el contenido de **b** al final de **a**."
      ]
    },
    {
      "cell_type": "code",
      "execution_count": 9,
      "metadata": {
        "colab": {
          "base_uri": "https://localhost:8080/"
        },
        "id": "dSYKydfFxTSr",
        "outputId": "1e6ffaed-52b0-4404-c0a7-6b1dc6176eac"
      },
      "outputs": [
        {
          "name": "stdout",
          "output_type": "stream",
          "text": [
            "[1, 2, 3, 4]\n"
          ]
        }
      ],
      "source": [
        "a = [1,2]\n",
        "b = [3,4]\n",
        "z = a+b\n",
        "print(z)"
      ]
    },
    {
      "cell_type": "markdown",
      "metadata": {
        "id": "fuThRuW5yxZ-"
      },
      "source": [
        "* **n * lista**: Podemos multiplicar una lista por un número entero, para repetir n veces la lista."
      ]
    },
    {
      "cell_type": "code",
      "execution_count": 10,
      "metadata": {
        "colab": {
          "base_uri": "https://localhost:8080/"
        },
        "id": "zR-Sv9IwzAIh",
        "outputId": "0f294e92-b760-446e-9597-a69a2f13a5b3"
      },
      "outputs": [
        {
          "name": "stdout",
          "output_type": "stream",
          "text": [
            "[1, 2, 1, 2, 1, 2]\n"
          ]
        }
      ],
      "source": [
        "n = 3\n",
        "a = [1, 2]\n",
        "z = n*a\n",
        "print(z)"
      ]
    },
    {
      "cell_type": "markdown",
      "metadata": {
        "id": "EomkxLecMMj3"
      },
      "source": [
        "- **len**( $lista$ ) Obtiene el largo de una lista."
      ]
    },
    {
      "cell_type": "code",
      "execution_count": 11,
      "metadata": {
        "colab": {
          "base_uri": "https://localhost:8080/"
        },
        "id": "4tCnGdcTMTvz",
        "outputId": "cc6738d2-82fb-4722-ae4f-daea22433e55"
      },
      "outputs": [
        {
          "name": "stdout",
          "output_type": "stream",
          "text": [
            "4\n"
          ]
        }
      ],
      "source": [
        "a = [1,2,3,4]\n",
        "print(len(a))"
      ]
    },
    {
      "cell_type": "markdown",
      "metadata": {
        "id": "DsZxDU1wVuuv"
      },
      "source": [
        "- **.sort**(): Ordena los elementos de la lista."
      ]
    },
    {
      "cell_type": "code",
      "execution_count": 12,
      "metadata": {
        "colab": {
          "base_uri": "https://localhost:8080/"
        },
        "id": "P9k-Xb-D5D2S",
        "outputId": "1ecf5eae-a9bc-458e-8722-86f14171df48"
      },
      "outputs": [
        {
          "name": "stdout",
          "output_type": "stream",
          "text": [
            "Help on built-in function sort:\n",
            "\n",
            "sort(*, key=None, reverse=False) method of builtins.list instance\n",
            "    Sort the list in ascending order and return None.\n",
            "    \n",
            "    The sort is in-place (i.e. the list itself is modified) and stable (i.e. the\n",
            "    order of two equal elements is maintained).\n",
            "    \n",
            "    If a key function is given, apply it once to each list item and sort them,\n",
            "    ascending or descending, according to their function values.\n",
            "    \n",
            "    The reverse flag can be set to sort in descending order.\n",
            "\n"
          ]
        }
      ],
      "source": [
        "a = [1,2,3]\n",
        "help(a.sort)"
      ]
    },
    {
      "cell_type": "code",
      "execution_count": 13,
      "metadata": {
        "colab": {
          "base_uri": "https://localhost:8080/"
        },
        "id": "xSqtP2NxV-SY",
        "outputId": "85971a5e-0cc3-4195-b707-2edc453c0601"
      },
      "outputs": [
        {
          "name": "stdout",
          "output_type": "stream",
          "text": [
            "['Adios', 'Buen día', 'Como esta', 'Hola']\n",
            "[1, 2, 3, 12, 23, 123]\n",
            "[123, 23, 12, 3, 2, 1]\n"
          ]
        }
      ],
      "source": [
        "a = [\"Hola\", \"Adios\", \"Como esta\", \"Buen día\" ]\n",
        "a.sort()\n",
        "print(a)\n",
        "\n",
        "b = [1, 2, 3, 123, 23, 12]\n",
        "b.sort()\n",
        "print(b)\n",
        "\n",
        "# Es posible hacer un orden inverso indicando reverse=True\n",
        "b.sort(reverse=True)\n",
        "print(b)"
      ]
    },
    {
      "cell_type": "markdown",
      "metadata": {
        "id": "-CLWt4-gYtaR"
      },
      "source": [
        "Es posible definir una regla de ordenamiento personalizada. Se debe definir una función, la cuál será evaluada en cada elemento de la lista, y el resultado de esta función se usa como criterio de orden. En la función *sort* se debe ingresar como parámetro *key=nombre_de_funcion*."
      ]
    },
    {
      "cell_type": "code",
      "execution_count": 14,
      "metadata": {
        "colab": {
          "base_uri": "https://localhost:8080/"
        },
        "id": "Xnj4b8_p1ZkR",
        "outputId": "968efe65-4b5b-44c8-dddf-d290d7ed2705"
      },
      "outputs": [
        {
          "name": "stdout",
          "output_type": "stream",
          "text": [
            "Orden final: ['Hola', 'Adios', 'Buen día', 'Como esta']\n",
            "Orden final: [['Mexico', 1.96], ['Argentina', 2.78], ['Brazil', 8.51]]\n"
          ]
        }
      ],
      "source": [
        "# En este ejemplo la regla es la longitud del elemento\n",
        "def mi_orden1(e):\n",
        "  return len(e)\n",
        "\n",
        "a = [\"Hola\", \"Adios\", \"Como esta\", \"Buen día\" ]\n",
        "a.sort(key=mi_orden1)\n",
        "print(\"Orden final:\", a)\n",
        "\n",
        "# En este ejemplo se analiza el segundo valor de cada elemento\n",
        "def mi_orden2(e):\n",
        "  return e[1]\n",
        "\n",
        "area = [ [\"Argentina\", 2.78], [\"Brazil\", 8.51], [\"Mexico\", 1.96] ]\n",
        "area.sort(key=mi_orden2)\n",
        "print(\"Orden final:\", area)"
      ]
    },
    {
      "cell_type": "markdown",
      "metadata": {
        "id": "4hht8kbW3Qvv"
      },
      "source": [
        "- **.append**($algo$): Permite agregar un elemento al final de la lista."
      ]
    },
    {
      "cell_type": "code",
      "execution_count": 15,
      "metadata": {
        "colab": {
          "base_uri": "https://localhost:8080/"
        },
        "id": "v3puF40n1ciS",
        "outputId": "068aad56-bc7b-4b77-8920-9ee8a9773a0b"
      },
      "outputs": [
        {
          "name": "stdout",
          "output_type": "stream",
          "text": [
            "[50, 'Hola como estas', 150.5, True]\n",
            "[50, 'Hola como estas', 150.5, True, 200]\n"
          ]
        }
      ],
      "source": [
        "mensaje = \"Hola como estas\"\n",
        "v = [50, mensaje, 150.5, True]\n",
        "print(v)\n",
        "\n",
        "# Agrego al final de la lista un elemento que vale 200 (tipo int)\n",
        "v.append(200)\n",
        "\n",
        "# Los elementos de la lista no son agregados individualmente\n",
        "# Y la lista se agrega como un elemento en sí misma\n",
        "# v.append([\"Uno\", \"Dos\", \"Tres\"])\n",
        "print(v)"
      ]
    },
    {
      "cell_type": "markdown",
      "metadata": {
        "id": "kSMm3FS5a4fN"
      },
      "source": [
        "- **.extend**($lista$): Permite agregar elementos de una lista al final de otra. Es muy similar a la suma de listas."
      ]
    },
    {
      "cell_type": "code",
      "execution_count": 16,
      "metadata": {
        "colab": {
          "base_uri": "https://localhost:8080/"
        },
        "id": "nEfG08UnbFDH",
        "outputId": "74ea3894-90ef-4244-f858-78d484801724"
      },
      "outputs": [
        {
          "name": "stdout",
          "output_type": "stream",
          "text": [
            "[1, 2, 3, 'Uno', 'Dos', 'Tres']\n"
          ]
        }
      ],
      "source": [
        "v = [1, 2, 3]\n",
        "v.extend([\"Uno\", \"Dos\", \"Tres\"])\n",
        "print(v)"
      ]
    },
    {
      "cell_type": "markdown",
      "metadata": {
        "id": "kZjHeYw3xpu7"
      },
      "source": [
        "- **.pop**(): Permite remover el ultimo elemento de la lista. Si lo llamamos con un índice, elimina el elemento que se encuentre en ese lugar."
      ]
    },
    {
      "cell_type": "code",
      "execution_count": 17,
      "metadata": {
        "colab": {
          "base_uri": "https://localhost:8080/"
        },
        "id": "UDWAtoERNfCw",
        "outputId": "d9a5642d-0cb9-49a7-b627-229d6531b94a"
      },
      "outputs": [
        {
          "name": "stdout",
          "output_type": "stream",
          "text": [
            "['Uno', 2, 'Tres', 4]\n",
            "['Uno', 'Tres', 4]\n"
          ]
        }
      ],
      "source": [
        "v = [\"Uno\", 2, \"Tres\", 4, \"Cinco\"]\n",
        "v.pop() # Quito el ultimo elemento\n",
        "print(v)\n",
        "v.pop(1) # Quito el elemento en el índice 1\n",
        "print(v)"
      ]
    },
    {
      "cell_type": "markdown",
      "metadata": {
        "id": "xuJGzxm_30Vu"
      },
      "source": [
        "- **.remove**($valor$): Remueve el primer elemento de la lista cuyo valor sea el indicado."
      ]
    },
    {
      "cell_type": "code",
      "execution_count": 18,
      "metadata": {
        "colab": {
          "base_uri": "https://localhost:8080/"
        },
        "id": "rHDPAGdHNwlH",
        "outputId": "65a11f67-f0f6-40fa-e690-17839b9dacc3"
      },
      "outputs": [
        {
          "name": "stdout",
          "output_type": "stream",
          "text": [
            "[1, 1, 2]\n",
            "[1, 1]\n"
          ]
        }
      ],
      "source": [
        "v = [1,2,1,2]\n",
        "v.remove(2) # elimino el primer valor igual a 2\n",
        "print(v)\n",
        "v.remove(2) # elimino el primer valor igual a 2\n",
        "print(v)"
      ]
    },
    {
      "cell_type": "markdown",
      "metadata": {
        "id": "5fLZ42t4zKbG"
      },
      "source": [
        "- **del** $lista$**[*índice*]**: Para eliminar un elemento en una posición determinada."
      ]
    },
    {
      "cell_type": "code",
      "execution_count": 19,
      "metadata": {
        "colab": {
          "base_uri": "https://localhost:8080/"
        },
        "id": "yTvsT5UazWN0",
        "outputId": "4501dd2f-a012-4a2b-8f1f-f048f4bd9ee3"
      },
      "outputs": [
        {
          "name": "stdout",
          "output_type": "stream",
          "text": [
            "['hola', 'estas']\n"
          ]
        }
      ],
      "source": [
        "a = [\"hola\",\"como\",\"estas\"]\n",
        "del a[1]\n",
        "print(a)"
      ]
    },
    {
      "cell_type": "markdown",
      "metadata": {
        "id": "JBxjC81WznRe"
      },
      "source": [
        "- $algo$ **in** $lista$: Muchas veces es necesario saber si un elemento esta dentro de una lista, para ello utilizamos esta estructura.\n"
      ]
    },
    {
      "cell_type": "code",
      "execution_count": 20,
      "metadata": {
        "colab": {
          "base_uri": "https://localhost:8080/"
        },
        "id": "UbnLWR6ct7ZP",
        "outputId": "5d616dbb-1854-424c-8d41-c3599b808ed9"
      },
      "outputs": [
        {
          "name": "stdout",
          "output_type": "stream",
          "text": [
            "True\n"
          ]
        }
      ],
      "source": [
        "mensaje = 'Qué sueño!'\n",
        "print('o' in mensaje)"
      ]
    },
    {
      "cell_type": "code",
      "execution_count": 21,
      "metadata": {
        "colab": {
          "base_uri": "https://localhost:8080/"
        },
        "id": "WOMGmQypuRtu",
        "outputId": "c2967b98-207d-42b1-8cb9-83cceed04eca"
      },
      "outputs": [
        {
          "name": "stdout",
          "output_type": "stream",
          "text": [
            "Hay zuchinni? False\n",
            "Hay papa? True\n"
          ]
        }
      ],
      "source": [
        "verduleria = ['papa', 'zanahoria', 'batata']\n",
        "\n",
        "print('Hay zuchinni?', 'zuchinni' in verduleria)\n",
        "print('Hay papa?', 'papa' in verduleria)"
      ]
    },
    {
      "cell_type": "code",
      "execution_count": 22,
      "metadata": {
        "colab": {
          "base_uri": "https://localhost:8080/"
        },
        "id": "TcAgoTD-Ocvz",
        "outputId": "e6957183-19ec-421a-c2ed-2d2b91403808"
      },
      "outputs": [
        {
          "name": "stdout",
          "output_type": "stream",
          "text": [
            "5 no esta en la lista\n",
            "[1, 2, 3]\n"
          ]
        }
      ],
      "source": [
        "x = [1,2,3]\n",
        "if 5 in x:\n",
        "    x.remove(5)\n",
        "else:\n",
        "    print(5,'no esta en la lista')\n",
        "\n",
        "print(x)"
      ]
    },
    {
      "cell_type": "markdown",
      "metadata": {
        "id": "dkrLVYAUcq3Q"
      },
      "source": [
        "*   **str.join($lista$)**: operación inversa a **`split`**. Permite unir los elementos de una lista de forma secuencial (concatenar), utilizando como separador el ´str´ indicado.\n",
        "\n"
      ]
    },
    {
      "cell_type": "code",
      "execution_count": 23,
      "metadata": {
        "colab": {
          "base_uri": "https://localhost:8080/"
        },
        "id": "KX85QBzpuzUo",
        "outputId": "1593c943-b0ed-4040-aea6-f7e3a8c42987"
      },
      "outputs": [
        {
          "name": "stdout",
          "output_type": "stream",
          "text": [
            "<class 'str'>\n",
            "['locro', 'pan', 'vino']\n"
          ]
        }
      ],
      "source": [
        "# Recordando el split\n",
        "almacen = 'locro - pan - vino'\n",
        "print(type(almacen))\n",
        "print(almacen.split(' - '))"
      ]
    },
    {
      "cell_type": "code",
      "execution_count": 24,
      "metadata": {
        "colab": {
          "base_uri": "https://localhost:8080/",
          "height": 35
        },
        "id": "K6W_gSiWc2nW",
        "outputId": "bd5057b6-3f7e-442a-fa45-518166c5ce16"
      },
      "outputs": [
        {
          "data": {
            "application/vnd.google.colaboratory.intrinsic+json": {
              "type": "string"
            },
            "text/plain": [
              "'locro, pan, vino'"
            ]
          },
          "execution_count": 24,
          "metadata": {},
          "output_type": "execute_result"
        }
      ],
      "source": [
        "lista_almacen = ['locro', 'pan', 'vino']\n",
        "\n",
        "', '.join(lista_almacen)"
      ]
    },
    {
      "cell_type": "code",
      "execution_count": 25,
      "metadata": {
        "colab": {
          "base_uri": "https://localhost:8080/"
        },
        "id": "bLiYtwB96Y3B",
        "outputId": "1c6ef138-cfaa-45b1-d226-cdc09e42ef4d"
      },
      "outputs": [
        {
          "name": "stdout",
          "output_type": "stream",
          "text": [
            "[[1, 2, 3], [2, 3, 4], [3, 4, 5]]\n",
            "[[3, 2, 1], [4, 3, 2], [5, 4, 3]]\n"
          ]
        }
      ],
      "source": [
        "a = [1,2,3]\n",
        "b = [list(range(i,3+i)) for i in a]\n",
        "print(b)\n",
        "c = [lista[::-1] for lista in b]\n",
        "print(c)"
      ]
    },
    {
      "cell_type": "code",
      "execution_count": 26,
      "metadata": {
        "colab": {
          "base_uri": "https://localhost:8080/"
        },
        "id": "_F9y_VRj7qyS",
        "outputId": "771a5ba0-84ba-4fb0-d6c1-db7f5be56689"
      },
      "outputs": [
        {
          "name": "stdout",
          "output_type": "stream",
          "text": [
            "ABC\n",
            "abc\n",
            "Help on built-in function upper:\n",
            "\n",
            "upper() method of builtins.str instance\n",
            "    Return a copy of the string converted to uppercase.\n",
            "\n"
          ]
        }
      ],
      "source": [
        "a = 'abc'\n",
        "print(a.upper())\n",
        "print(a)\n",
        "help(a.upper)"
      ]
    },
    {
      "cell_type": "markdown",
      "metadata": {
        "id": "BTmbR7mx1460"
      },
      "source": [
        "### **`for`** Sobre una Lista\n",
        "Al igual que con strings, la instrucción **`for`** puede ir avanzando sobre todos los elementos de una lista:"
      ]
    },
    {
      "cell_type": "code",
      "execution_count": 27,
      "metadata": {
        "colab": {
          "base_uri": "https://localhost:8080/"
        },
        "id": "QutQLV0J16-7",
        "outputId": "d8e323a0-aacc-4ef4-9836-efc6046699ab"
      },
      "outputs": [
        {
          "name": "stdout",
          "output_type": "stream",
          "text": [
            "1\n",
            "10\n",
            "100\n",
            "1000\n",
            "[5, 6, 7]\n",
            "5\n",
            "hola\n"
          ]
        }
      ],
      "source": [
        "lista = [1, 10, 100, 1000, [5,6,7], 5, \"hola\"]\n",
        "\n",
        "for elemento in lista:\n",
        "    print(elemento)"
      ]
    },
    {
      "cell_type": "markdown",
      "metadata": {
        "id": "01r_1ngWYK4M"
      },
      "source": [
        "Muchas veces es útil tener el índice del elemento. Para esto usamos la instrucción **`enumerate()`** sobre la lista:"
      ]
    },
    {
      "cell_type": "code",
      "execution_count": 28,
      "metadata": {
        "colab": {
          "base_uri": "https://localhost:8080/"
        },
        "id": "8xdHAhisYL1t",
        "outputId": "cfa48dd0-009f-4e65-8293-07a55a225f96"
      },
      "outputs": [
        {
          "name": "stdout",
          "output_type": "stream",
          "text": [
            "El indice es 0 y el elemento 1\n",
            "El indice es 1 y el elemento 10\n",
            "El indice es 2 y el elemento 100\n",
            "El indice es 3 y el elemento 1000\n",
            "El indice es 4 y el elemento [5, 6, 7]\n",
            "El indice es 5 y el elemento 5\n",
            "El indice es 6 y el elemento hola\n"
          ]
        }
      ],
      "source": [
        "for ind,elemento in enumerate(lista):\n",
        "    print(f\"El indice es {ind} y el elemento {elemento}\") #al colocar f antes del string creamos un"
      ]
    },
    {
      "cell_type": "markdown",
      "metadata": {
        "id": "-E0dHsR5YLLq"
      },
      "source": [
        "Otras veces es necesario recorrer dos listas al mismo tiempo. Para ello usaremos la instrucción **`zip`** sobre ambas listas:"
      ]
    },
    {
      "cell_type": "code",
      "execution_count": 29,
      "metadata": {
        "colab": {
          "base_uri": "https://localhost:8080/"
        },
        "id": "nIw6GqLBY2oI",
        "outputId": "8e99a7e0-d694-47d4-dbe4-f2ab6f454090"
      },
      "outputs": [
        {
          "name": "stdout",
          "output_type": "stream",
          "text": [
            "Nombre Martin\n",
            "Apellido Sosa\n",
            "Edad 13\n"
          ]
        }
      ],
      "source": [
        "titulos = ['Nombre', 'Apellido', 'Edad']\n",
        "valores = ['Martin', 'Sosa', 13]\n",
        "\n",
        "for title,val in zip(titulos,valores):\n",
        "  print(title,val)"
      ]
    },
    {
      "cell_type": "markdown",
      "metadata": {
        "id": "ANXKLdYnzVzK"
      },
      "source": [
        "#### 📚 **Ejercicio 1:** Listas\n",
        "\n",
        "1. Crear una lista con los números pares menores a 50.\n",
        "2. Crear un programa en el cual el usuario ingresa un *string* y dos índices numéricos. El programa debe crear una lista a partir de las letras del string, luego intercambiar dos letras de lugar a partir de los índices indicados por el usuario. Por último debe combinar las letras de la lista nuevamente en un *string* e imprimir el resultado. Si los índices son inválidos, mostrar un mensaje de error.\n",
        "\n",
        " **Tip**: El método [`str.join()`](https://docs.python.org/3/library/stdtypes.html#str.join) les puede ser de gran utilidad.\n",
        "\n",
        "3. Realizar un programa que ordena nombres alfabéticamente. Primero debe pedir al usuario que ingrese el número de nombres que serán ingresados, luego debe pedir al usuario que ingrese un nombre y repetir ese pedido la cantidad de veces indicada. Los nombres se deben ir agregando a una lista. Por último, ordenar la lista alfabéticamente y mostrar en pantalla de a uno por vez los nombres ordenados (usando un **`for`**).\n"
      ]
    },
    {
      "cell_type": "code",
      "execution_count": null,
      "metadata": {
        "id": "6ZlcZDYzfbS5"
      },
      "outputs": [],
      "source": [
        "# Código Ejercicio 1 Apartado 1\n",
        "even=[2*e for e in range (1,25)]\n",
        "even=[e for e in range (2,50,2)]\n",
        "even=list(range(2,50,2))\n",
        "even"
      ]
    },
    {
      "cell_type": "code",
      "execution_count": 76,
      "metadata": {},
      "outputs": [
        {
          "data": {
            "text/plain": [
              "(1, [6, 2])"
            ]
          },
          "execution_count": 76,
          "metadata": {},
          "output_type": "execute_result"
        }
      ],
      "source": [
        "a=(1,[1,2])\n",
        "a[1][0]=6\n",
        "a"
      ]
    },
    {
      "cell_type": "code",
      "execution_count": 12,
      "metadata": {
        "id": "a7IcjO94fanw"
      },
      "outputs": [
        {
          "name": "stdout",
          "output_type": "stream",
          "text": [
            "oedericf\n"
          ]
        }
      ],
      "source": [
        "# Código Ejercicio 1 Apartado 2\n",
        "st = input(\"Ingrese una cadena de texto: \")\n",
        "i1 = int(input(\"Ingrese el primer índice: \"))\n",
        "i2 = int(input(\"Ingrese el segundo índice: \"))\n",
        "st_list,st_len = list(st),len(st)\n",
        "# Verifica si los índices son válidos\n",
        "if 0 <= i1 < st_len and 0 <= i2 < st_len:\n",
        "    # Intercambia las letras de los índices indicados\n",
        "    st_list[i1], st_list[i2] = st_list[i2], st_list[i1]\n",
        "    # Imprime Nueva cadena \n",
        "    print(\"\".join(st_list))\n",
        "else:\n",
        "    print(f\"Los índices tienen que estar en el rango [0,{st_len-1}]\")"
      ]
    },
    {
      "cell_type": "code",
      "execution_count": 13,
      "metadata": {
        "id": "fveNC7SI0uiK"
      },
      "outputs": [
        {
          "name": "stdout",
          "output_type": "stream",
          "text": [
            "\n",
            "Nombres ordenados alfabéticamente:\n",
            "carlos\n",
            "diego\n",
            "federico\n",
            "juan\n",
            "machi\n"
          ]
        }
      ],
      "source": [
        "# Código Ejercicio 1 Apartado 3\n",
        "n_names = int(input(\"Cuanto nombres quiere ingresar?: \"))\n",
        "names = []\n",
        "for i in range(n_names):\n",
        "    name = input(f\"Ingrese el nombre {i+1}º: \")\n",
        "    names.append(name)\n",
        "# Ordena nombres alfabéticamente\n",
        "names.sort()\n",
        "# Mostrar los nombres ordenados\n",
        "print(\"\\nNombres ordenados alfabéticamente:\")\n",
        "for name in names:\n",
        "    print(name)"
      ]
    },
    {
      "cell_type": "markdown",
      "metadata": {
        "id": "RU8YCreUbsXe"
      },
      "source": [
        "### Para Pensar 2\n",
        "\n",
        "**¿Cómo podría representarse una matriz utilizando listas?**"
      ]
    },
    {
      "cell_type": "code",
      "execution_count": 33,
      "metadata": {
        "colab": {
          "base_uri": "https://localhost:8080/"
        },
        "id": "TZ-4N3LH2LtZ",
        "outputId": "2202d5bd-46e3-478d-fe43-e582f24bf4c6"
      },
      "outputs": [
        {
          "name": "stdout",
          "output_type": "stream",
          "text": [
            "6\n"
          ]
        }
      ],
      "source": [
        "# Esto se puede lograr con listas que contengan listas\n",
        "# Cada elemento de la lista exterior corresponderá a una de las filas de la matriz\n",
        "# En este caso habría que procurar que todas las listas interiores tengan la misma longitud\n",
        "\n",
        "x = [[1,2,3],\n",
        "     [4,5,6],\n",
        "     [7,8,9]]\n",
        "\n",
        "print(x[1][2])"
      ]
    },
    {
      "cell_type": "markdown",
      "metadata": {
        "id": "q81vDFegcyM2"
      },
      "source": [
        "## Consideraciones Finales Sobre Listas\n",
        "\n",
        "Es importante observar que **en las listas los elementos se almacenan en un orden bien definido**, es decir, siempre hay un elemento que está antes y otro que está después. Además, dado que cada elemento de la lista es independiente de los restantes, se admite la existencia de elementos repetidos. Esto no será siempre cierto con otras estructuras de datos.\n",
        "\n",
        "Otro detalle es que **es posible crear listas con elementos de cualquier tipo de dato, o bien con cualquier estructura de datos**. De esta forma, se pueden crear listas de listas, o listas de cualquier otra combinación de las estructuras que veremos más adelante.\n",
        "\n",
        "Pueden encontrar más información acerca de los métodos de una lista [acá](https://docs.python.org/3/tutorial/datastructures.html#more-on-lists)."
      ]
    },
    {
      "cell_type": "markdown",
      "metadata": {
        "id": "IOYwNMDr_dE3"
      },
      "source": [
        "# Tuplas\n",
        "\n",
        "Las **tuplas** son similares a las listas, pero a diferencia de ellas se dice que las tuplas son *inmutables*. Esto quiere decir que sus elementos no pueden cambiar una vez definidos. Se pueden crear usando paréntesis, de la siguiente manera:\n",
        "\n",
        "> a = **(** $ a_{0}, a_{1}, a_{2},\\dots $ **)**\n",
        "\n",
        "Los elementos de una tupla también se pueden acceder usando un índice entre corchetes: al igual que las listas, admiten *slicing*.\n",
        "\n",
        "Cuando creamos una función que devuelve más de un elemento separado por comas, estamos utilizando una tupla inadvertidamente. Cuando intercambiamos 2 elementos de una lista también aparecen tuplas. Estas son las principales aplicaciones de tuplas, y para concentrarnos en las principales estructuras de datos no ahondaremos mucho más en este tema."
      ]
    },
    {
      "cell_type": "code",
      "execution_count": 34,
      "metadata": {
        "colab": {
          "base_uri": "https://localhost:8080/"
        },
        "id": "L_omh-gyPtXX",
        "outputId": "79f35550-916a-4ae9-b692-088758d14c05"
      },
      "outputs": [
        {
          "name": "stdout",
          "output_type": "stream",
          "text": [
            "(1, 2, 3) 1 2 3\n"
          ]
        }
      ],
      "source": [
        "tupla = (1, 2, 3)\n",
        "print(tupla, tupla[0], tupla[1], tupla[2])\n",
        "#tupla[0] = 10   # Las tuplas no admiten la asignación por índice"
      ]
    },
    {
      "cell_type": "code",
      "execution_count": 35,
      "metadata": {
        "colab": {
          "base_uri": "https://localhost:8080/"
        },
        "id": "_wej3tVt91jZ",
        "outputId": "4e1202bd-6dad-426b-83f8-b42fd691be75"
      },
      "outputs": [
        {
          "data": {
            "text/plain": [
              "['__add__',\n",
              " '__class__',\n",
              " '__class_getitem__',\n",
              " '__contains__',\n",
              " '__delattr__',\n",
              " '__dir__',\n",
              " '__doc__',\n",
              " '__eq__',\n",
              " '__format__',\n",
              " '__ge__',\n",
              " '__getattribute__',\n",
              " '__getitem__',\n",
              " '__getnewargs__',\n",
              " '__gt__',\n",
              " '__hash__',\n",
              " '__init__',\n",
              " '__init_subclass__',\n",
              " '__iter__',\n",
              " '__le__',\n",
              " '__len__',\n",
              " '__lt__',\n",
              " '__mul__',\n",
              " '__ne__',\n",
              " '__new__',\n",
              " '__reduce__',\n",
              " '__reduce_ex__',\n",
              " '__repr__',\n",
              " '__rmul__',\n",
              " '__setattr__',\n",
              " '__sizeof__',\n",
              " '__str__',\n",
              " '__subclasshook__',\n",
              " 'count',\n",
              " 'index']"
            ]
          },
          "execution_count": 35,
          "metadata": {},
          "output_type": "execute_result"
        }
      ],
      "source": [
        "dir(tupla)"
      ]
    },
    {
      "cell_type": "code",
      "execution_count": 36,
      "metadata": {
        "colab": {
          "base_uri": "https://localhost:8080/"
        },
        "id": "NIMS8D-VPtUm",
        "outputId": "6223c89e-c40b-44cf-eb0c-59deb8402b10"
      },
      "outputs": [
        {
          "name": "stdout",
          "output_type": "stream",
          "text": [
            "(10, 20, 30)\n",
            "10 20 30\n"
          ]
        }
      ],
      "source": [
        "def f(x):\n",
        "  return x, 2*x, 3*x\n",
        "\n",
        "print(f(10))\n",
        "x, y, z = f(10)\n",
        "print(x, y, z)"
      ]
    },
    {
      "cell_type": "code",
      "execution_count": 37,
      "metadata": {
        "colab": {
          "base_uri": "https://localhost:8080/"
        },
        "id": "5rloEp-e3p1r",
        "outputId": "92c99a9e-619a-48a3-9b40-08cb5bdcecfb"
      },
      "outputs": [
        {
          "name": "stdout",
          "output_type": "stream",
          "text": [
            "30 0 10\n"
          ]
        }
      ],
      "source": [
        "x, y, z = z, 0, x\n",
        "print(x, y, z)"
      ]
    },
    {
      "cell_type": "markdown",
      "metadata": {
        "id": "KhV4CUvITVmc"
      },
      "source": [
        "# Diccionarios"
      ]
    },
    {
      "cell_type": "markdown",
      "metadata": {
        "id": "tvZJQsblvplY"
      },
      "source": [
        "Un **diccionario** es otra estructura de datos muy útil y muy utilizada cotidianamente. Pensemos en un diccionario físico, que incluye una gran cantidad de información organizada por palabras ordenadas alfabéticamente y contenido asociado a ellas. Lo que nos interesa obtener de un diccionario son las definiciones, y cada palabra es la *llave* que nos ayudará a encontrar esas definiciones.\n",
        "\n",
        "<p align=\"center\">\n",
        "<img\n",
        "     src=\"https://drive.google.com/uc?export=view&id=18beLwLO4Y56T4K-rWIAUIUa5v4CwLYwt\"\n",
        "     alt=\"pypl\"\n",
        "     width=30%\n",
        "     height=30%>\n",
        "</p>\n",
        "\n",
        "\n",
        "En programación, los diccionarios no son muy distintos. Un **diccionario** en este contexto es una estructura de datos cuya información esta organizada igual que en un diccionario físico. Cada bloque de información, es decir, cada elemento, tiene asociada una palabra. La palabra que se utiliza para encontrar el bloque de información se la suele denominar **key** o **clave**. Mediante la **clave** se puede acceder a dicha informacion, la cual se suele denominar **contenido**. El par **clave,contenido** suele llamarse **elemento**.\n",
        "\n",
        "Es muy importante notar que **no pueden existir dos elementos con igual clave**, estos serían indistinguibles.\n",
        "\n",
        "La **clave** suele ser información con tipo de dato *string* (aunque no necesariamente), mientras que el contenido puede tener cualquier tipo de dato.\n",
        "\n",
        "Los diccionarios se crean utilizando la siguiente estructura:\n",
        "\n",
        "> x = **{**  $k_{0}$ **:** $c_{0}$**,** $k_{1}$ **:** $c_{1}$, $\\dots$**}**\n",
        ">\n",
        "> Noten el \"**:**\" que divide el *key* del *contenido*, y que se usa entre llaves: **{ }**\n",
        "\n",
        "Comenzemos por crear un diccionario con la descripción de las palabras:"
      ]
    },
    {
      "cell_type": "code",
      "execution_count": 38,
      "metadata": {
        "colab": {
          "base_uri": "https://localhost:8080/"
        },
        "id": "x_M_vy5fUtyd",
        "outputId": "1447f42c-6206-42b3-91e4-ebc5cc5a745b"
      },
      "outputs": [
        {
          "name": "stdout",
          "output_type": "stream",
          "text": [
            "{'trueno': 'Ruido muy fuerte que sigue al rayo durante una tempestad, producido por la expansión del aire al paso de la descarga eléctrica.', 'rayo': 'Chispa eléctrica de gran intensidad producida por la descarga entre dos nubes o entre una nube y la tierra.'}\n",
            "{}\n",
            "<class 'dict'>\n"
          ]
        }
      ],
      "source": [
        "d = {\n",
        "    \"trueno\": \"Ruido muy fuerte que sigue al rayo durante una tempestad, producido por la expansión del aire al paso de la descarga eléctrica.\",\n",
        "    \"rayo\": \"Chispa eléctrica de gran intensidad producida por la descarga entre dos nubes o entre una nube y la tierra.\"\n",
        "}\n",
        "\n",
        "a = {} # Diccionario vacío\n",
        "\n",
        "print(d)\n",
        "print(a)\n",
        "print(type(a))"
      ]
    },
    {
      "cell_type": "markdown",
      "metadata": {
        "id": "L4qzUGar266U"
      },
      "source": [
        "Para acceder a los datos de un diccionario se utiliza la misma sintaxis que las listas pero en lugar de un *índice* numérico, utilizando la *clave* a la que queremos acceder."
      ]
    },
    {
      "cell_type": "code",
      "execution_count": 39,
      "metadata": {
        "colab": {
          "base_uri": "https://localhost:8080/"
        },
        "id": "X4NcAVrb3IOa",
        "outputId": "b9e2b8a4-5aa9-46f6-d78d-c651ed24f504"
      },
      "outputs": [
        {
          "name": "stdout",
          "output_type": "stream",
          "text": [
            "rayo:\n",
            "Chispa eléctrica de gran intensidad producida por la descarga entre dos nubes o entre una nube y la tierra.\n"
          ]
        }
      ],
      "source": [
        "d = {\n",
        "    \"trueno\": \"Ruido muy fuerte que sigue al rayo durante una tempestad, producido por la expansión del aire al paso de la descarga eléctrica.\",\n",
        "    \"rayo\": \"Chispa eléctrica de gran intensidad producida por la descarga entre dos nubes o entre una nube y la tierra.\"\n",
        "}\n",
        "\n",
        "print('rayo:')\n",
        "print(d['rayo'])"
      ]
    },
    {
      "cell_type": "markdown",
      "metadata": {
        "id": "Abnxh6zsuJp9"
      },
      "source": [
        "Tambien podemos usar los diccionarios para acceder de forma sencilla a datos almacenados. Por ejemplo, para acceder a los estudiantes de una universidad a partir de su número de legajo, creamos una base de datos estructurada de la siguiente manera:\n",
        "\n",
        "> **clave**=Legajo **contenido**=Nombre"
      ]
    },
    {
      "cell_type": "code",
      "execution_count": 40,
      "metadata": {
        "colab": {
          "base_uri": "https://localhost:8080/"
        },
        "id": "FLfNRSbXVxOr",
        "outputId": "29753e2f-6e7f-4c03-b681-4f6c24ee9432"
      },
      "outputs": [
        {
          "name": "stdout",
          "output_type": "stream",
          "text": [
            "Nombre completo del legajo 50002 :  Matías Pérez\n"
          ]
        }
      ],
      "source": [
        "database = {\n",
        "    50001:\"Karen Fernández\",\n",
        "    50002:\"Matías Pérez\",\n",
        "    50003:\"Julieta González\"\n",
        "}\n",
        "print(\"Nombre completo del legajo\", 50002, \": \", database[50002])"
      ]
    },
    {
      "cell_type": "markdown",
      "metadata": {
        "id": "XfBwbaJi2Epw"
      },
      "source": [
        "## Operaciones con Diccionarios\n",
        "- $clave$ **`in`** $diccionario$: Nos permite saber si esa clave se encuentra en el diccionario."
      ]
    },
    {
      "cell_type": "code",
      "execution_count": 15,
      "metadata": {
        "colab": {
          "base_uri": "https://localhost:8080/"
        },
        "id": "IXfr9AU0JMMc",
        "outputId": "c980b23a-8e38-4ba0-8ab5-47f37bdc090b"
      },
      "outputs": [
        {
          "name": "stdout",
          "output_type": "stream",
          "text": [
            "la clave 50001 se encuentra en el diccionario\n",
            "50002 Esta en el diccionario\n"
          ]
        }
      ],
      "source": [
        "database = {\n",
        "    50001:\"Karen Fernandez\",\n",
        "    50002:\"Matías Perez\",\n",
        "    50003:\"Julieta Gonzalez\"\n",
        "}\n",
        "\n",
        "if 50001 in database:\n",
        "    print(\"la clave 50001 se encuentra en el diccionario\")\n",
        "\n",
        "x = int(input())\n",
        "if x in database:\n",
        "    print(x, 'Esta en el diccionario')"
      ]
    },
    {
      "cell_type": "markdown",
      "metadata": {
        "id": "ved0xALF2ffS"
      },
      "source": [
        "- **`for`** $clave$ **`in`** $diccionario$: Nos permite iterar por todas las claves del diccionario."
      ]
    },
    {
      "cell_type": "code",
      "execution_count": 42,
      "metadata": {
        "colab": {
          "base_uri": "https://localhost:8080/"
        },
        "id": "Vrf_s_F1J7uA",
        "outputId": "55153e69-88f4-43fc-9d45-b03cf4246ada"
      },
      "outputs": [
        {
          "name": "stdout",
          "output_type": "stream",
          "text": [
            "La clave 50001 tiene asociado el valor Karen Fernandez\n",
            "La clave 50002 tiene asociado el valor Matías Perez\n",
            "La clave 50003 tiene asociado el valor Julieta Gonzalez\n"
          ]
        }
      ],
      "source": [
        "database = {\n",
        "    50001:\"Karen Fernandez\",\n",
        "    50002:\"Matías Perez\",\n",
        "    50003:\"Julieta Gonzalez\"\n",
        "}\n",
        "\n",
        "for clave in database:\n",
        "    print('La clave',clave,'tiene asociado el valor',database[clave])\n"
      ]
    },
    {
      "cell_type": "markdown",
      "metadata": {
        "id": "xHAzhLywGEvB"
      },
      "source": [
        "- **.items**(): Devuelve la lista de claves y valores almacenadas en el diccionario.\n",
        "\n",
        " Ya que se obtienen 2 datos por elemento, para utilizarlo en un **`for`** tendremos que indicar 2 nombres de variable separados por coma. En este ejemplo la variable *k* tomará el valor de la *key* de cada elemento y la variable *c* tomará el valor de cada *contenido*.\n",
        "\n",
        " Los métodos **`.keys()`** y **`.values()`** nos devuelven listas con las claves y los valores, respectivamente."
      ]
    },
    {
      "cell_type": "code",
      "execution_count": 43,
      "metadata": {
        "colab": {
          "base_uri": "https://localhost:8080/"
        },
        "id": "e58nY61-J_0D",
        "outputId": "7dd5c2b7-4d3a-43f5-c3bf-27c19ec6a34c"
      },
      "outputs": [
        {
          "name": "stdout",
          "output_type": "stream",
          "text": [
            "key: 50001  content:  Karen Fernandez\n",
            "key: 50002  content:  Matías Perez\n",
            "key: 50003  content:  Julieta Gonzalez\n"
          ]
        }
      ],
      "source": [
        "database = {\n",
        "    50001:\"Karen Fernandez\",\n",
        "    50002:\"Matías Perez\",\n",
        "    50003:\"Julieta Gonzalez\"\n",
        "}\n",
        "\n",
        "for k,c in database.items():\n",
        "    print(\"key:\", k,\" content: \",c)"
      ]
    },
    {
      "cell_type": "markdown",
      "metadata": {
        "id": "pr-mdzVqTKYH"
      },
      "source": [
        "\n",
        "\n",
        "* diccionario[ ***clave***] = valor: Agrega un nuevo elemento a un diccionario. Si ya existía un valor asociado a esta clave, será reemplazado por el nuevo valor.\n"
      ]
    },
    {
      "cell_type": "code",
      "execution_count": 44,
      "metadata": {
        "colab": {
          "base_uri": "https://localhost:8080/"
        },
        "id": "s0k9_NjxbGFm",
        "outputId": "71f17af9-d018-4bab-a9c1-3c0f8894074d"
      },
      "outputs": [
        {
          "name": "stdout",
          "output_type": "stream",
          "text": [
            "{'año': 2021, 'mes': 12, 'dia': 24}\n",
            "{'año': 2021, 'mes': 'Diciembre', 'dia': 24, 'horas': 23, 'minutos': 59}\n"
          ]
        }
      ],
      "source": [
        "x = {\n",
        "    'año':2021,\n",
        "    'mes':12\n",
        "}\n",
        "\n",
        "x['dia'] = 24\n",
        "print(x)\n",
        "\n",
        "x['mes'] = 'Diciembre'\n",
        "x['horas'] = 23\n",
        "x['minutos'] = 59\n",
        "print(x)"
      ]
    },
    {
      "cell_type": "markdown",
      "metadata": {
        "id": "62HlAxaNqWo9"
      },
      "source": [
        "- **.get**( *clave, valor_por_defecto* ): Devuelve el valor asociado a la clave. Si la clave *no* se encuentra el diccionario, devuelve el valor por defecto indicado. Esto es útil cuando no sabemos si una clave existe o no."
      ]
    },
    {
      "cell_type": "code",
      "execution_count": 45,
      "metadata": {
        "colab": {
          "base_uri": "https://localhost:8080/"
        },
        "id": "p46-e02mBLLK",
        "outputId": "4ec4691d-aef2-44da-a034-78e7ddc95645"
      },
      "outputs": [
        {
          "name": "stdout",
          "output_type": "stream",
          "text": [
            "['Lorem', 'ipsum', 'dolor', 'sit', 'amet,', 'consectetur', 'adipiscing', 'elit,', 'sed', 'eiusmod', 'tempor', 'incidunt', 'ut', 'labore', 'et', 'dolore', 'magna', 'aliqua.', 'Ut', 'enim', 'ad', 'minim', 'veniam,', 'quis', 'nostrud', 'exercitation', 'ullamco', 'laboris', 'nisi', 'ut', 'aliquid', 'ex', 'ea', 'commodi', 'consequat.', 'Quis', 'aute', 'iure', 'reprehenderit', 'in', 'voluptate', 'velit', 'esse', 'cillum', 'dolore', 'eu', 'fugiat', 'nulla', 'pariatur.', 'Excepteur', 'sint', 'obcaecat', 'cupiditat', 'non', 'proident,', 'sunt', 'in', 'culpa', 'qui', 'officia', 'deserunt', 'mollit', 'anim', 'id', 'est', 'laborum.']\n",
            "{'Lorem': 1, 'ipsum': 1, 'dolor': 1, 'sit': 1, 'amet,': 1, 'consectetur': 1, 'adipiscing': 1, 'elit,': 1, 'sed': 1, 'eiusmod': 1, 'tempor': 1, 'incidunt': 1, 'ut': 2, 'labore': 1, 'et': 1, 'dolore': 2, 'magna': 1, 'aliqua.': 1, 'Ut': 1, 'enim': 1, 'ad': 1, 'minim': 1, 'veniam,': 1, 'quis': 1, 'nostrud': 1, 'exercitation': 1, 'ullamco': 1, 'laboris': 1, 'nisi': 1, 'aliquid': 1, 'ex': 1, 'ea': 1, 'commodi': 1, 'consequat.': 1, 'Quis': 1, 'aute': 1, 'iure': 1, 'reprehenderit': 1, 'in': 2, 'voluptate': 1, 'velit': 1, 'esse': 1, 'cillum': 1, 'eu': 1, 'fugiat': 1, 'nulla': 1, 'pariatur.': 1, 'Excepteur': 1, 'sint': 1, 'obcaecat': 1, 'cupiditat': 1, 'non': 1, 'proident,': 1, 'sunt': 1, 'culpa': 1, 'qui': 1, 'officia': 1, 'deserunt': 1, 'mollit': 1, 'anim': 1, 'id': 1, 'est': 1, 'laborum.': 1}\n"
          ]
        }
      ],
      "source": [
        "texto = \"Lorem ipsum dolor sit amet, consectetur adipiscing elit, sed eiusmod tempor incidunt ut labore et dolore magna aliqua. Ut enim ad minim veniam, quis nostrud exercitation ullamco laboris nisi ut aliquid ex ea commodi consequat. Quis aute iure reprehenderit in voluptate velit esse cillum dolore eu fugiat nulla pariatur. Excepteur sint obcaecat cupiditat non proident, sunt in culpa qui officia deserunt mollit anim id est laborum.\"\n",
        "palabras = texto.split(' ')\n",
        "print(palabras)\n",
        "ocurrencias = {}\n",
        "for palabra in palabras:\n",
        "  # Suma 1 a las ocurrencias de 'letra', o inicializa el elemento con valor 1\n",
        "  ocurrencias[palabra] = ocurrencias.get(palabra, 0) + 1\n",
        "\n",
        "print(ocurrencias)"
      ]
    },
    {
      "cell_type": "code",
      "execution_count": 16,
      "metadata": {
        "colab": {
          "base_uri": "https://localhost:8080/"
        },
        "id": "q7NW97Hbq7AC",
        "outputId": "fe7ecec3-64ec-47b6-8809-33e73b0e5d83"
      },
      "outputs": [
        {
          "name": "stdout",
          "output_type": "stream",
          "text": [
            "{'L': 1, 'o': 25, 'r': 20, 'e': 37, 'm': 17, ' ': 65, 'i': 42, 'p': 10, 's': 18, 'u': 28, 'd': 16, 'l': 20, 't': 32, 'a': 28, ',': 4, 'c': 15, 'n': 23, 'g': 3, 'b': 4, 'q': 5, '.': 4, 'U': 1, 'v': 3, 'x': 3, 'Q': 1, 'h': 1, 'f': 3, 'E': 1}\n"
          ]
        }
      ],
      "source": [
        "texto = \"Lorem ipsum dolor sit amet, consectetur adipiscing elit, sed eiusmod tempor incidunt ut labore et dolore magna aliqua. Ut enim ad minim veniam, quis nostrud exercitation ullamco laboris nisi ut aliquid ex ea commodi consequat. Quis aute iure reprehenderit in voluptate velit esse cillum dolore eu fugiat nulla pariatur. Excepteur sint obcaecat cupiditat non proident, sunt in culpa qui officia deserunt mollit anim id est laborum.\"\n",
        "ocurrencias = {}\n",
        "for letra in texto:\n",
        "  # Suma 1 a las ocurrencias de 'letra', o inicializa el elemento con valor 1\n",
        "  ocurrencias[letra] = ocurrencias.get(letra, 0) + 1\n",
        "\n",
        "# De esta forma podríamos averiguar la cantidad de ocurrencias de cada letra en un texto.\n",
        "print(ocurrencias)"
      ]
    },
    {
      "cell_type": "markdown",
      "metadata": {
        "id": "eK4Lm4w9WHfk"
      },
      "source": [
        "#### 📚 **Ejercicio 2:** Diccionarios\n",
        "\n",
        "1. Realizar un programa que pida al usuario un número de legajo y el nombre completo, luego lo guarde en un diccionario. En caso de que el número de legajo ya se encuentre en el diccionario, se debe mostrar un mensaje de advertencia.\n",
        "\n",
        "> Usar dos celdas de código, en una crear el diccionario, y en la otra agregar el nombre y legajo y mostrar el contenido total. La idea es que cuando se ejecute varias veces la segunda celda, se agregue un nuevo nombre y legajo a lo que ya había sido almacenado en el diccionario."
      ]
    },
    {
      "cell_type": "code",
      "execution_count": 17,
      "metadata": {
        "colab": {
          "base_uri": "https://localhost:8080/"
        },
        "id": "2dcL9YmnWfbv",
        "outputId": "f745be72-178f-467a-8be9-db2b72d033a9"
      },
      "outputs": [
        {
          "name": "stdout",
          "output_type": "stream",
          "text": [
            "{}\n"
          ]
        }
      ],
      "source": [
        "# Celda 1\n",
        "# Ejecutar esta celda 1 vez para crear el diccionario vacío\n",
        "dic = {}\n",
        "print(dic)"
      ]
    },
    {
      "cell_type": "code",
      "execution_count": 20,
      "metadata": {
        "id": "6aiGms-8_9T3"
      },
      "outputs": [
        {
          "name": "stdout",
          "output_type": "stream",
          "text": [
            "EL número de legajo ya existe. Por favor, ingrese otro.\n",
            "\n",
            "Legajos de los usuarios:\n",
            "Número de legajo: 12, Nombre: Juan\n",
            "Número de legajo: 52, Nombre: Federico\n"
          ]
        }
      ],
      "source": [
        "# Celda 2\n",
        "# Ejecutar esta celda cada vez que se quiera agregar un elemento\n",
        "\n",
        "id = input(\"Ingrese el número de legajo: \")\n",
        "name = input(\"Ingrese el nombre: \")\n",
        "\n",
        "if id in dic:\n",
        "    print(\"EL número de legajo ya existe. Por favor, ingrese otro.\")\n",
        "else:\n",
        "    dic[id] = name\n",
        "    print(\"Usuario registrado con éxito.\")\n",
        "\n",
        "print(\"\\nLegajos de los usuarios:\")\n",
        "for id, name in dic.items():\n",
        "    print(f\"Número de legajo: {id}, Nombre: {name}\")"
      ]
    },
    {
      "cell_type": "code",
      "execution_count": 22,
      "metadata": {},
      "outputs": [
        {
          "name": "stdout",
          "output_type": "stream",
          "text": [
            "EL número de legajo ya existe. Por favor, ingrese otro.\n",
            "Usuario registrado con éxito.\n",
            "Usuario registrado con éxito.\n",
            "\n",
            "Legajos de los usuarios:\n",
            "Número de legajo: 12, Nombre: Juan\n",
            "Número de legajo: 52, Nombre: Federico\n",
            "Número de legajo: 15, Nombre: Dionisio\n",
            "Número de legajo: 85, Nombre: Estanislao\n"
          ]
        }
      ],
      "source": [
        "while True:\n",
        "    id = input('Ingrese el número de legajo o \"q\" para salir: ')\n",
        "    if id.lower() == 'q':\n",
        "        break\n",
        "    if id in dic:\n",
        "        print(\"EL número de legajo ya existe. Por favor, ingrese otro.\")\n",
        "    else:\n",
        "        name = input(\"Ingrese el nombre: \")\n",
        "        dic[id] = name\n",
        "        print(\"Usuario registrado con éxito.\")\n",
        "print(\"\\nLegajos de los usuarios:\")\n",
        "for id, name in dic.items():\n",
        "    print(f\"Número de legajo: {id}, Nombre: {name}\")"
      ]
    },
    {
      "cell_type": "markdown",
      "metadata": {
        "id": "EbcY0DGr9mwE"
      },
      "source": [
        "## Consideraciones Finales Sobre Diccionarios\n",
        "\n",
        "Es importante ver que un diccionario **tiene un cierto orden**, al igual que las listas. Por otro lado, también aceptan contenidos repetidos **siempre que tengan distintas claves**. Uno de los dilemas más comunes cuando se trabaja con grandes volúmenes de información es qué tomar como clave."
      ]
    },
    {
      "cell_type": "markdown",
      "metadata": {
        "id": "otim_uNIDYcm"
      },
      "source": [
        "# Sets (Conjuntos)\n",
        "\n",
        "<p align=\"center\">\n",
        "<img\n",
        "     src=\"https://drive.google.com/uc?export=view&id=11LRMODA6CHdUWX9i-2_PpGPqZ2Qdlaci\"\n",
        "     alt=\"pypl\"\n",
        "     width=50%\n",
        "     height=50%>\n",
        "</p>\n"
      ]
    },
    {
      "cell_type": "markdown",
      "metadata": {
        "id": "uSUbyYQRAaF9"
      },
      "source": [
        "Un **set** es una estructura de datos más avanzada que las anteriores, la cual nos permite almacenar un grupo de elementos cuyo orden no es relevante. Lo único que tiene importancia cuando utilizamos un **set** es qué elemento está y qué elemento no.\n",
        "\n",
        "Un **set** no admite repetidos, ya que por su funcionamiento interno no tiene la capacidad de determinar si un elemento se encuentra más de una vez, solamente puede saber qué elementos están y qué elementos no.\n",
        "A primera vista parecería que esta estructura es muy limitada, ya que no está ordenada y no acepta repetidos, no obstante este es muy práctica para algunos tipos de operaciones, las cuales serían muy tediosas de  programar en listas o diccionarios.\n",
        "\n",
        "Para crear un **set** se utilizan llaves **{ }** y se colocan elementos separados por comas, su sintaxis es similar a la de las listas.\n"
      ]
    },
    {
      "cell_type": "code",
      "execution_count": 49,
      "metadata": {
        "colab": {
          "base_uri": "https://localhost:8080/"
        },
        "id": "pGzhs39jEhPl",
        "outputId": "63f48d7f-1d78-4882-8cba-6531e5c1a91e"
      },
      "outputs": [
        {
          "name": "stdout",
          "output_type": "stream",
          "text": [
            "Set x = {1, 2, 3, 4, 7}\n",
            "Lista l = [1, 2, 3, 4, 7, 7, 7, 7, 7, 7]\n"
          ]
        }
      ],
      "source": [
        "x = {1,2,3,4,7,7,7,7,7,7}\n",
        "l = [1,2,3,4,7,7,7,7,7,7]\n",
        "\n",
        "print(\"Set x =\",x)\n",
        "print(\"Lista l =\",l)"
      ]
    },
    {
      "cell_type": "markdown",
      "metadata": {
        "id": "vwXNR2eLMEHH"
      },
      "source": [
        "\n",
        "\n",
        "### Operaciones con Sets\n",
        "- **|** : Es la operacion de $A \\cup B$ llamada \"*unión*\"."
      ]
    },
    {
      "cell_type": "code",
      "execution_count": 50,
      "metadata": {
        "colab": {
          "base_uri": "https://localhost:8080/"
        },
        "id": "yUtHifyMgoYc",
        "outputId": "49179d21-e60d-4031-ea52-065fae5e27dd"
      },
      "outputs": [
        {
          "name": "stdout",
          "output_type": "stream",
          "text": [
            "{1, 2, 3, 4, 20, 7, 10, 15}\n"
          ]
        }
      ],
      "source": [
        "x = {1,2,3,4,7,7,7,7,7,7}\n",
        "y = {1,2,10}\n",
        "z = {15, 20}\n",
        "\n",
        "k = x | y | z\n",
        "print(k)"
      ]
    },
    {
      "cell_type": "markdown",
      "metadata": {
        "id": "d51LnJdhMgxr"
      },
      "source": [
        "\n",
        "-  **&**: Es la operacion de $A \\cap B$ llamada \"*intersección*\"."
      ]
    },
    {
      "cell_type": "code",
      "execution_count": 51,
      "metadata": {
        "colab": {
          "base_uri": "https://localhost:8080/"
        },
        "id": "7pXUUZBMMunZ",
        "outputId": "557827ea-43a2-40b7-8c77-1155e5d029c5"
      },
      "outputs": [
        {
          "name": "stdout",
          "output_type": "stream",
          "text": [
            "{1, 2}\n"
          ]
        }
      ],
      "source": [
        "x = {1,2,3,4,7,7,7,7,7,7}\n",
        "y = {1,2,10}\n",
        "w = x & y\n",
        "print(w)"
      ]
    },
    {
      "cell_type": "markdown",
      "metadata": {
        "id": "i-jBKc8rQz2I"
      },
      "source": [
        "- **A-B**: Todo elemento de A que también se encuentre en B, será quitado de A. El equivalente logico es $ A\\cap \\neg B$."
      ]
    },
    {
      "cell_type": "code",
      "execution_count": 52,
      "metadata": {
        "colab": {
          "base_uri": "https://localhost:8080/"
        },
        "id": "Y-ERvaLKRFbS",
        "outputId": "ea8a0aec-34b7-48f8-fca4-b7a27e3d3d63"
      },
      "outputs": [
        {
          "name": "stdout",
          "output_type": "stream",
          "text": [
            "{3, 4, 7}\n",
            "{10}\n"
          ]
        }
      ],
      "source": [
        "x = {1,2,3,4,7,7,7,7,7,7}\n",
        "y = {1,2,10}\n",
        "z = x-y\n",
        "print(z)\n",
        "print(y-x)"
      ]
    },
    {
      "cell_type": "markdown",
      "metadata": {
        "id": "bD9Y4BIeQOY2"
      },
      "source": [
        "- **.remove**($valor$): Remueve el valor del set."
      ]
    },
    {
      "cell_type": "code",
      "execution_count": 53,
      "metadata": {
        "colab": {
          "base_uri": "https://localhost:8080/"
        },
        "id": "tLd3WIpxGT-o",
        "outputId": "6d6cb349-5a17-4484-8c03-a469e4330960"
      },
      "outputs": [
        {
          "name": "stdout",
          "output_type": "stream",
          "text": [
            "{2, 3, 4, 7}\n"
          ]
        }
      ],
      "source": [
        "x = {1,2,3,4,7}\n",
        "x.remove(1)\n",
        "print(x)"
      ]
    },
    {
      "cell_type": "markdown",
      "metadata": {
        "id": "B7B3zozkQZKe"
      },
      "source": [
        "- **.add**($valor$): Agrega el valor al set."
      ]
    },
    {
      "cell_type": "code",
      "execution_count": 54,
      "metadata": {
        "colab": {
          "base_uri": "https://localhost:8080/"
        },
        "id": "04Qm70ySHlEn",
        "outputId": "f9fb9589-933f-4071-a9fe-c729880db255"
      },
      "outputs": [
        {
          "name": "stdout",
          "output_type": "stream",
          "text": [
            "{1, 2, 3, 4, 'hola', 7}\n"
          ]
        }
      ],
      "source": [
        "x = {1,2,3,4,7}\n",
        "x.add(\"hola\")\n",
        "print(x)"
      ]
    },
    {
      "cell_type": "markdown",
      "metadata": {
        "id": "4AaFXPmnpH6L"
      },
      "source": [
        "- **len**($set$) Obtiene el tamaño de un set."
      ]
    },
    {
      "cell_type": "code",
      "execution_count": 26,
      "metadata": {
        "colab": {
          "base_uri": "https://localhost:8080/"
        },
        "id": "KSH0zSlgFh_U",
        "outputId": "8fc572a6-1826-46ee-f650-1af0b08409d0"
      },
      "outputs": [
        {
          "name": "stdout",
          "output_type": "stream",
          "text": [
            "{1, 2, 3}\n",
            "{1, 2, 3}\n",
            "3\n",
            "{1, 2, 3}\n",
            "{1, 2, 3}\n"
          ]
        },
        {
          "data": {
            "text/plain": [
              "['__and__',\n",
              " '__class__',\n",
              " '__class_getitem__',\n",
              " '__contains__',\n",
              " '__delattr__',\n",
              " '__dir__',\n",
              " '__doc__',\n",
              " '__eq__',\n",
              " '__format__',\n",
              " '__ge__',\n",
              " '__getattribute__',\n",
              " '__getstate__',\n",
              " '__gt__',\n",
              " '__hash__',\n",
              " '__iand__',\n",
              " '__init__',\n",
              " '__init_subclass__',\n",
              " '__ior__',\n",
              " '__isub__',\n",
              " '__iter__',\n",
              " '__ixor__',\n",
              " '__le__',\n",
              " '__len__',\n",
              " '__lt__',\n",
              " '__ne__',\n",
              " '__new__',\n",
              " '__or__',\n",
              " '__rand__',\n",
              " '__reduce__',\n",
              " '__reduce_ex__',\n",
              " '__repr__',\n",
              " '__ror__',\n",
              " '__rsub__',\n",
              " '__rxor__',\n",
              " '__setattr__',\n",
              " '__sizeof__',\n",
              " '__str__',\n",
              " '__sub__',\n",
              " '__subclasshook__',\n",
              " '__xor__',\n",
              " 'add',\n",
              " 'clear',\n",
              " 'copy',\n",
              " 'difference',\n",
              " 'difference_update',\n",
              " 'discard',\n",
              " 'intersection',\n",
              " 'intersection_update',\n",
              " 'isdisjoint',\n",
              " 'issubset',\n",
              " 'issuperset',\n",
              " 'pop',\n",
              " 'remove',\n",
              " 'symmetric_difference',\n",
              " 'symmetric_difference_update',\n",
              " 'union',\n",
              " 'update']"
            ]
          },
          "execution_count": 26,
          "metadata": {},
          "output_type": "execute_result"
        }
      ],
      "source": [
        "l1 = {1,2,3}\n",
        "l2 = l1.copy()\n",
        "len_l1=len(l1)\n",
        "\n",
        "print(l1)\n",
        "print(l2)\n",
        "print(len_l1)\n",
        "\n",
        "# l2[0] = 5\n",
        "\n",
        "print(l1)\n",
        "print(l2)\n",
        "dir(l1)"
      ]
    },
    {
      "cell_type": "code",
      "execution_count": 46,
      "metadata": {
        "colab": {
          "base_uri": "https://localhost:8080/"
        },
        "id": "TjBCHQptDgQA",
        "outputId": "eb2548f0-d0c7-447a-f55a-e037895f22d0"
      },
      "outputs": [
        {
          "name": "stdout",
          "output_type": "stream",
          "text": [
            "False\n",
            "True\n",
            "{1, 2, 3}\n",
            "Help on built-in function pop:\n",
            "\n",
            "pop(...) method of builtins.set instance\n",
            "    Remove and return an arbitrary set element.\n",
            "    Raises KeyError if the set is empty.\n",
            "\n",
            "1\n"
          ]
        }
      ],
      "source": [
        "lista1 = [1,2,3]\n",
        "lista2 = [2,1,3]\n",
        "s1 = set(lista1)\n",
        "s2 = set(lista2)\n",
        "print(lista1 == lista2)\n",
        "print(s1 == s2)\n",
        "print(s1)\n",
        "help(s1.pop)\n",
        "print(s1.pop())\n"
      ]
    },
    {
      "cell_type": "code",
      "execution_count": 57,
      "metadata": {
        "colab": {
          "base_uri": "https://localhost:8080/"
        },
        "id": "Z2xvvwqXpTRo",
        "outputId": "f88ffa17-5199-4312-9d9e-34b46699d37e"
      },
      "outputs": [
        {
          "name": "stdout",
          "output_type": "stream",
          "text": [
            "False\n",
            "{1, 2, 3, 6}\n",
            "4\n"
          ]
        }
      ],
      "source": [
        "print(lista1 == lista2)\n",
        "conjunto = { 1, 2, 1, 3, 1, 6}\n",
        "print(conjunto)\n",
        "print(len(conjunto))"
      ]
    },
    {
      "cell_type": "markdown",
      "metadata": {
        "id": "GTYqk43YWl_3"
      },
      "source": [
        "#### 📚 **Ejercicio 3**: Sets\n",
        "\n",
        "1. Se cuentan con varios sets que contienen las personas que les gusta un cierto sabor de helado:\n",
        "\n",
        "```python\n",
        "vainilla = { \"Juan\", \"Marina\", \"Tomas\", \"Paula\" }\n",
        "chocolate = { \"Pedro\", \"Paula\", \"Marina\" }\n",
        "dulceDeLeche = { \"Juan\", \"Julian\", \"Pedro\", \"Marina\" }\n",
        "```\n",
        "\n",
        "> Responder usando operaciones de sets:\n",
        "\n",
        "- Hay alguna persona a la que le gusten todos los gustos?\n",
        "\n",
        "- Hay alguna persona a la que le gusten la vainilla y no el dulce de leche?\n",
        "\n",
        "- Cuántas personas distintas tenemos?"
      ]
    },
    {
      "cell_type": "code",
      "execution_count": 49,
      "metadata": {
        "id": "HAqgd_poAZN2"
      },
      "outputs": [
        {
          "name": "stdout",
          "output_type": "stream",
          "text": [
            "{'Marina'}\n",
            "{'Paula', 'Tomas'}\n",
            "{'Pedro', 'Marina', 'Paula', 'Tomas', 'Juan', 'Julian'}\n"
          ]
        }
      ],
      "source": [
        "# Código Ejercicio 3\n",
        "v = { \"Juan\", \"Marina\", \"Tomas\", \"Paula\" }\n",
        "ch = { \"Pedro\", \"Paula\", \"Marina\" }\n",
        "dl = { \"Juan\", \"Julian\", \"Pedro\", \"Marina\" }\n",
        "\n",
        "print(v&ch&dl)\n",
        "print(v-dl)\n",
        "print(v|ch|dl)\n"
      ]
    },
    {
      "cell_type": "markdown",
      "metadata": {
        "id": "J2FkAJt9-h5D"
      },
      "source": [
        "# 🚨 Ejercicios Integradores"
      ]
    },
    {
      "cell_type": "markdown",
      "metadata": {
        "id": "0_lEQuB-fIH4"
      },
      "source": [
        "## 1. Elecciones Presidenciales\n",
        "Realizar un programa en el cual se decida cual es el ganador de una **elección a presidente**. En el diccionario `candidatos` la **clave** es el nombre del candidato y el contenido (**valor**) la cantidad de votos.\n",
        "\n",
        "**TIP**: Usen `for`, `if` y variables auxiliares.\n",
        "\n",
        "Además, si el padrón electoral era de 5000000 de personas, ¿qué porcentaje del padrón emitió su voto?\n",
        "\n",
        "*Challenge*: Hacer que el programa anterior indique si debe haber **[ballotage](https://es.wikipedia.org/wiki/Segunda_vuelta_electoral)** (es decir, si el ganador obtuvo menos del 50%+1 de los votos)."
      ]
    },
    {
      "cell_type": "code",
      "execution_count": 7,
      "metadata": {
        "colab": {
          "base_uri": "https://localhost:8080/"
        },
        "id": "QH9KkPS6fMzX",
        "outputId": "a97a5270-beeb-4bf1-da87-70a1958ead1c"
      },
      "outputs": [],
      "source": [
        "candidatos = {\n",
        "    \"Gustavo Cerati\": 334453,\n",
        "    \"Mercedes Sosa\": 18445,\n",
        "    \"Donald Trump\": 1434444,\n",
        "    # \"Carlos Indio Solari\": 1434444,\n",
        "    \"Fabiana Cantilo\": 312332,\n",
        "    \"Gustavo Cordera\": 5543,\n",
        "    \"Ricardo Mollo\": 1343343,\n",
        "    \"Gustavo Napoli\":1232322\n",
        "}\n",
        "\n",
        "# for nombre, votos in candidatos.items():\n",
        "#     print(nombre,\":\", votos)"
      ]
    },
    {
      "cell_type": "code",
      "execution_count": 8,
      "metadata": {
        "id": "A6U8lCD5r7xg"
      },
      "outputs": [
        {
          "name": "stdout",
          "output_type": "stream",
          "text": [
            "El ganador de la elección es: Donald Trump con 1434444 votos, el 28.7% del padron votó por Donald Trump.\n"
          ]
        }
      ],
      "source": [
        "# Código Ejercicio Elecciones\n",
        "# Inicializar variables para el candidato ganador y la cantidad máxima de votos\n",
        "ganador = None\n",
        "max_votos = 0\n",
        "\n",
        "# Iterar sobre los candidatos y sus votos para encontrar al ganador\n",
        "for nombre, votos in candidatos.items():\n",
        "    if votos > max_votos:\n",
        "        ganador = nombre\n",
        "        max_votos = votos\n",
        "\n",
        "# Imprimir el nombre del ganador\n",
        "print(f\"El ganador de la elección es: {ganador} con {max_votos} votos, el {round(max_votos/5e4,1)}% del padron votó por {ganador}.\")"
      ]
    },
    {
      "cell_type": "markdown",
      "metadata": {
        "id": "KnSeNcECE-rW"
      },
      "source": [
        "## 2. Serie Integrada de Orden n\n",
        "\n",
        "Desarrollar una función que reciba como argumento una lista de valores y devuelva una lista con la serie integrada de orden n, donde n es un entero positivo.\n",
        "\n",
        "Por ejemplo, un input podría ser la siguiente lista:\n",
        "```\n",
        "my_list = [1, 2, 3, 4, 5, 6]\n",
        "```\n",
        "Y el output debería ser algo como sigue:\n",
        "```\n",
        "int_ord_1 = my_func(my_list, n=1)\n",
        "print(int_ord_1)\n",
        "\n",
        ">>> [1, 1, 1, 1, 1]\n",
        "```"
      ]
    },
    {
      "cell_type": "code",
      "execution_count": null,
      "metadata": {},
      "outputs": [],
      "source": [
        "def hacer_estacionaria(serie, orden):\n",
        "    for _ in range(orden):\n",
        "        serie = [serie[i] - serie[i-1] for i in range(1,len(serie))]\n",
        "    return serie"
      ]
    },
    {
      "cell_type": "code",
      "execution_count": 5,
      "metadata": {},
      "outputs": [
        {
          "name": "stdout",
          "output_type": "stream",
          "text": [
            "[1, 1, 1, 1, 1]\n"
          ]
        }
      ],
      "source": [
        "# Ejemplo de serie temporal\n",
        "serie = [1, 2, 3, 4, 5, 6]\n",
        "\n",
        "# Orden de diferenciación\n",
        "orden = 1\n",
        "\n",
        "# Hacer la serie estacionaria\n",
        "serie_estacionaria = hacer_estacionaria(serie, orden)\n",
        "\n",
        "print(serie_estacionaria)"
      ]
    }
  ],
  "metadata": {
    "colab": {
      "provenance": []
    },
    "kernelspec": {
      "display_name": "Python 3",
      "name": "python3"
    },
    "language_info": {
      "codemirror_mode": {
        "name": "ipython",
        "version": 3
      },
      "file_extension": ".py",
      "mimetype": "text/x-python",
      "name": "python",
      "nbconvert_exporter": "python",
      "pygments_lexer": "ipython3",
      "version": "3.11.5"
    }
  },
  "nbformat": 4,
  "nbformat_minor": 0
}
